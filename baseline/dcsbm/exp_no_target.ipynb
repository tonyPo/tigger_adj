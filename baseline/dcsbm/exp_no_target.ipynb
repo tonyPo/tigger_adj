{
 "cells": [
  {
   "cell_type": "markdown",
   "metadata": {},
   "source": [
    "### DCSBM\n",
    "Runs the DCSBM model on the 4 small synthetic datasets and shows their performance\n"
   ]
  },
  {
   "cell_type": "code",
   "execution_count": 1,
   "metadata": {},
   "outputs": [
    {
     "name": "stdout",
     "output_type": "stream",
     "text": [
      "/Users/tonpoppe/workspace/tigger_adj_rep/tigger_adj\n"
     ]
    },
    {
     "name": "stderr",
     "output_type": "stream",
     "text": [
      "/Users/tonpoppe/anaconda3/envs/tg_geo/lib/python3.11/site-packages/graspologic/models/edge_swaps.py:215: NumbaDeprecationWarning: The keyword argument 'nopython=False' was supplied. From Numba 0.59.0 the default is being changed to True and use of 'nopython=False' will raise a warning as the argument will have no effect. See https://numba.readthedocs.io/en/stable/reference/deprecation.html#deprecation-of-object-mode-fall-back-behaviour-when-using-jit for details.\n",
      "  _edge_swap_numba = nb.jit(_edge_swap, nopython=False)\n"
     ]
    }
   ],
   "source": [
    "# imports\n",
    "import glob\n",
    "import os\n",
    "import numpy as np\n",
    "import pandas as pd\n",
    "from datetime import datetime, date\n",
    "from graspologic.datasets import load_drosophila_right\n",
    "from graspologic.plot import heatmap\n",
    "from graspologic.utils import binarize, symmetrize\n",
    "from graspologic.models import DCSBMEstimator\n",
    "%matplotlib inline\n",
    "\n",
    "os.chdir(\"../..\")\n",
    "print(os.getcwd())  # /Users/tonpoppe/workspace/tigger_adj_rep/tigger_adj\n",
    "\n",
    "from tigger_package.metrics.distribution_metrics import compare_metrics, compare_metrics2, calculate_model_performance, model_smry_performance"
   ]
  },
  {
   "cell_type": "code",
   "execution_count": 3,
   "metadata": {},
   "outputs": [],
   "source": [
    "\n",
    "def create_adj_matrix(nodes, edges):\n",
    "    \"\"\"creates an adjacency matrix from the nodes and edge dataframe\"\"\"\n",
    "    # Create a mapping of node IDs to indices\n",
    "    node_idx = {node_id: idx for idx, node_id in enumerate(nodes['id'])}\n",
    "\n",
    "    # Initialize the adjacency matrix\n",
    "    n = len(nodes)\n",
    "    adj = np.zeros((n, n), dtype=int)\n",
    "\n",
    "    # Populate the adjacency matrix\n",
    "    edge_array = edges[['start', 'end']].to_numpy()\n",
    "    for edge in edge_array:\n",
    "        source_idx = node_idx[edge[0]]\n",
    "        target_idx = node_idx[edge[1]]\n",
    "        adj[source_idx, target_idx] = 1  # Use 1 to indicate an edge, use higher integers if you're counting edges or weights\n",
    "        \n",
    "    print(f\"len nodes {len(nodes)}, adj shape: {adj.shape} --- len edge {len(edges)}, sum adj {np.sum(adj)}\")\n",
    "    return adj\n",
    " \n",
    "def train_dcsbm(adj, verbose=2):\n",
    "    \"\"\" trains the dcsbm model on the given adjacency matrix\"\"\"\n",
    "    ### TRAIN DCSBM MODEL\n",
    "    dcsbme = DCSBMEstimator(directed=True, degree_directed=True, loops=False)\n",
    "    dcsbme.fit(adj, y=None)\n",
    "    if verbose > 1:\n",
    "        print(\"DCSBM \\\"B\\\" matrix:\")\n",
    "        print(dcsbme.block_p_)\n",
    "        heatmap(dcsbme.p_mat_,\n",
    "                inner_hier_labels=dcsbme.vertex_assignments_,\n",
    "                font_scale=0.5,\n",
    "                title=\"DCSBM probability matrix\",\n",
    "                vmin=0,\n",
    "                vmax=1,\n",
    "                sort_nodes=True)\n",
    "    return dcsbme\n",
    "\n",
    "def sample_dcsbm(dcsbme, verbose=2):\n",
    "    #### SAMPLE MODEL\n",
    "    adj_sampled = dcsbme.sample()\n",
    "    if verbose > 1:\n",
    "        heatmap(adj_sampled[0],\n",
    "                inner_hier_labels=dcsbme.vertex_assignments_,\n",
    "                font_scale=0.5,\n",
    "                title=\"Sampled adj probability matrix\",\n",
    "                vmin=0,\n",
    "                vmax=1,\n",
    "                sort_nodes=True)\n",
    "    return adj_sampled\n",
    "\n",
    "def adjacency_to_edge_list(adj_matrix, edges):\n",
    "    \"\"\"conveert adj matrix to edges dataframe with default attr values\"\"\"\n",
    "    edges_sampled = []\n",
    "    # Iterate over each element in the adjacency matrix\n",
    "    for i in range(adj_matrix.shape[0]):\n",
    "        for j in range(adj_matrix.shape[1]):\n",
    "            if adj_matrix[i, j] != 0:\n",
    "                # Append a tuple (source, target, weight)\n",
    "                edges_sampled.append((i, j))\n",
    "                \n",
    "    # convert to pandas dataframe\n",
    "    edges_sampled = pd.DataFrame(edges_sampled, columns=['src', 'dst'] )\n",
    "    \n",
    "    #add default values to edge attributes\n",
    "    edge_cols = [c for c in edges.columns if c not in ('start', 'end')]\n",
    "    for col in edge_cols:\n",
    "        edges_sampled[col] = 0.5\n",
    "    \n",
    "    return edges_sampled\n",
    "   \n",
    "def get_stats(res):\n",
    "    mdl_performance = calculate_model_performance(res)\n",
    "    stats = model_smry_performance(mdl_performance)\n",
    "    return stats\n",
    "\n",
    "def run_single_experiment(config_dict, run_nr, verbose=2):\n",
    "    edges = pd.read_parquet(config_dict['base_path'] + config_dict['edges_path'])\n",
    "    nodes = pd.read_parquet(config_dict['base_path'] + config_dict['nodes_path'])\n",
    "    adj = create_adj_matrix(nodes, edges)  # create adjacency matrix\n",
    "    dcsbme = train_dcsbm(adj, verbose=verbose)  # train model\n",
    "    adj_sampled = sample_dcsbm(dcsbme, verbose=verbose)\n",
    "    edges_sampled = adjacency_to_edge_list(adj_sampled[0], edges) # transform adjance to edge pdf\n",
    "    edges_sampled.to_parquet(config_dict['res_folder'] + f\"synth_edges_run_{run_nr}\")\n",
    "    res = compare_metrics2(nodes, edges, nodes, edges_sampled, name='DCSBM')\n",
    "    res['run_id'] = run_nr\n",
    "    return res\n",
    " \n",
    "def  init_res_dataset(config_dict):\n",
    "    folder = config_dict['res_folder']\n",
    "    \n",
    "    # check if folder exists\n",
    "    if not os.path.exists(folder):\n",
    "        # Create the folder\n",
    "        os.makedirs(folder)\n",
    "    \n",
    "    matching_files = glob.glob(folder + f\"combined_raw_results_*\")\n",
    "    if len(matching_files)> 0:\n",
    "        max_date = max([int(f.split(\".\")[0][-8:]) for f in matching_files])\n",
    "        res_path = f\"{folder}combined_raw_results_{max_date}.parquet\"\n",
    "        res = [pd.read_parquet(res_path)]\n",
    "        start_run = res[0]['run_id'].max() + 1\n",
    "    else:\n",
    "        res = []\n",
    "        start_run = 0\n",
    "    return start_run, res\n",
    " \n",
    "def run_experiment(config_dict, runs=10, verbose=1):\n",
    "    start_run, res = init_res_dataset(config_dict)\n",
    "    for run_nr in range(start_run, start_run + runs):\n",
    "        print(f\"start processing run {run_nr}\")\n",
    "        res.append(run_single_experiment(config_dict, run_nr=run_nr, verbose=1))  \n",
    "        total_df = pd.concat(res, axis=0)\n",
    "        date_str = date.today().strftime(\"%Y%m%d\")\n",
    "        total_df.to_parquet(config_dict['res_folder'] + f\"combined_raw_results_{date_str}.parquet\")\n",
    "    return total_df    \n",
    "\n",
    " \n",
    "# stats = run_single_experiment(config_dict, verbose=1)\n",
    "# stats \n"
   ]
  },
  {
   "cell_type": "markdown",
   "metadata": {},
   "source": [
    "### Enron"
   ]
  },
  {
   "cell_type": "code",
   "execution_count": 3,
   "metadata": {},
   "outputs": [
    {
     "name": "stdout",
     "output_type": "stream",
     "text": [
      "start processing run 0\n",
      "len nodes 150, adj shape: (150, 150) --- len edge 2689, sum adj 2689\n"
     ]
    },
    {
     "name": "stderr",
     "output_type": "stream",
     "text": [
      "/Users/tonpoppe/anaconda3/envs/tg_geo/lib/python3.11/site-packages/graspologic/embed/base.py:199: UserWarning: Input graph is not fully connected. Results may notbe optimal. You can compute the largest connected component byusing ``graspologic.utils.largest_connected_component``.\n",
      "  warnings.warn(msg, UserWarning)\n"
     ]
    },
    {
     "name": "stdout",
     "output_type": "stream",
     "text": [
      "~/Downloads/gtrieScanner_src_01/gtrieScanner -s 3 -m gtrie ~/Downloads/gtrieScanner_src_01/gtries/dir3.gt -d -t html -g temp/edges_adj.csv -o temp/dir3_edges.html \n",
      "~/Downloads/gtrieScanner_src_01/gtrieScanner -s 3 -m gtrie ~/Downloads/gtrieScanner_src_01/gtries/dir3.gt -d -t html -g temp/synth_edges_adj.csv -o temp/dir3_synth_edges.html \n",
      "start processing run 1\n",
      "len nodes 150, adj shape: (150, 150) --- len edge 2689, sum adj 2689\n"
     ]
    },
    {
     "name": "stderr",
     "output_type": "stream",
     "text": [
      "/Users/tonpoppe/anaconda3/envs/tg_geo/lib/python3.11/site-packages/graspologic/embed/base.py:199: UserWarning: Input graph is not fully connected. Results may notbe optimal. You can compute the largest connected component byusing ``graspologic.utils.largest_connected_component``.\n",
      "  warnings.warn(msg, UserWarning)\n"
     ]
    },
    {
     "name": "stdout",
     "output_type": "stream",
     "text": [
      "~/Downloads/gtrieScanner_src_01/gtrieScanner -s 3 -m gtrie ~/Downloads/gtrieScanner_src_01/gtries/dir3.gt -d -t html -g temp/edges_adj.csv -o temp/dir3_edges.html \n",
      "~/Downloads/gtrieScanner_src_01/gtrieScanner -s 3 -m gtrie ~/Downloads/gtrieScanner_src_01/gtries/dir3.gt -d -t html -g temp/synth_edges_adj.csv -o temp/dir3_synth_edges.html \n",
      "start processing run 2\n",
      "len nodes 150, adj shape: (150, 150) --- len edge 2689, sum adj 2689\n"
     ]
    },
    {
     "name": "stderr",
     "output_type": "stream",
     "text": [
      "/Users/tonpoppe/anaconda3/envs/tg_geo/lib/python3.11/site-packages/graspologic/embed/base.py:199: UserWarning: Input graph is not fully connected. Results may notbe optimal. You can compute the largest connected component byusing ``graspologic.utils.largest_connected_component``.\n",
      "  warnings.warn(msg, UserWarning)\n"
     ]
    },
    {
     "name": "stdout",
     "output_type": "stream",
     "text": [
      "~/Downloads/gtrieScanner_src_01/gtrieScanner -s 3 -m gtrie ~/Downloads/gtrieScanner_src_01/gtries/dir3.gt -d -t html -g temp/edges_adj.csv -o temp/dir3_edges.html \n",
      "~/Downloads/gtrieScanner_src_01/gtrieScanner -s 3 -m gtrie ~/Downloads/gtrieScanner_src_01/gtries/dir3.gt -d -t html -g temp/synth_edges_adj.csv -o temp/dir3_synth_edges.html \n",
      "start processing run 3\n",
      "len nodes 150, adj shape: (150, 150) --- len edge 2689, sum adj 2689\n"
     ]
    },
    {
     "name": "stderr",
     "output_type": "stream",
     "text": [
      "/Users/tonpoppe/anaconda3/envs/tg_geo/lib/python3.11/site-packages/graspologic/embed/base.py:199: UserWarning: Input graph is not fully connected. Results may notbe optimal. You can compute the largest connected component byusing ``graspologic.utils.largest_connected_component``.\n",
      "  warnings.warn(msg, UserWarning)\n"
     ]
    },
    {
     "name": "stdout",
     "output_type": "stream",
     "text": [
      "~/Downloads/gtrieScanner_src_01/gtrieScanner -s 3 -m gtrie ~/Downloads/gtrieScanner_src_01/gtries/dir3.gt -d -t html -g temp/edges_adj.csv -o temp/dir3_edges.html \n",
      "~/Downloads/gtrieScanner_src_01/gtrieScanner -s 3 -m gtrie ~/Downloads/gtrieScanner_src_01/gtries/dir3.gt -d -t html -g temp/synth_edges_adj.csv -o temp/dir3_synth_edges.html \n",
      "start processing run 4\n",
      "len nodes 150, adj shape: (150, 150) --- len edge 2689, sum adj 2689\n"
     ]
    },
    {
     "name": "stderr",
     "output_type": "stream",
     "text": [
      "/Users/tonpoppe/anaconda3/envs/tg_geo/lib/python3.11/site-packages/graspologic/embed/base.py:199: UserWarning: Input graph is not fully connected. Results may notbe optimal. You can compute the largest connected component byusing ``graspologic.utils.largest_connected_component``.\n",
      "  warnings.warn(msg, UserWarning)\n"
     ]
    },
    {
     "name": "stdout",
     "output_type": "stream",
     "text": [
      "~/Downloads/gtrieScanner_src_01/gtrieScanner -s 3 -m gtrie ~/Downloads/gtrieScanner_src_01/gtries/dir3.gt -d -t html -g temp/edges_adj.csv -o temp/dir3_edges.html \n",
      "~/Downloads/gtrieScanner_src_01/gtrieScanner -s 3 -m gtrie ~/Downloads/gtrieScanner_src_01/gtries/dir3.gt -d -t html -g temp/synth_edges_adj.csv -o temp/dir3_synth_edges.html \n",
      "start processing run 5\n",
      "len nodes 150, adj shape: (150, 150) --- len edge 2689, sum adj 2689\n"
     ]
    },
    {
     "name": "stderr",
     "output_type": "stream",
     "text": [
      "/Users/tonpoppe/anaconda3/envs/tg_geo/lib/python3.11/site-packages/graspologic/embed/base.py:199: UserWarning: Input graph is not fully connected. Results may notbe optimal. You can compute the largest connected component byusing ``graspologic.utils.largest_connected_component``.\n",
      "  warnings.warn(msg, UserWarning)\n"
     ]
    },
    {
     "name": "stdout",
     "output_type": "stream",
     "text": [
      "~/Downloads/gtrieScanner_src_01/gtrieScanner -s 3 -m gtrie ~/Downloads/gtrieScanner_src_01/gtries/dir3.gt -d -t html -g temp/edges_adj.csv -o temp/dir3_edges.html \n",
      "~/Downloads/gtrieScanner_src_01/gtrieScanner -s 3 -m gtrie ~/Downloads/gtrieScanner_src_01/gtries/dir3.gt -d -t html -g temp/synth_edges_adj.csv -o temp/dir3_synth_edges.html \n",
      "start processing run 6\n",
      "len nodes 150, adj shape: (150, 150) --- len edge 2689, sum adj 2689\n"
     ]
    },
    {
     "name": "stderr",
     "output_type": "stream",
     "text": [
      "/Users/tonpoppe/anaconda3/envs/tg_geo/lib/python3.11/site-packages/graspologic/embed/base.py:199: UserWarning: Input graph is not fully connected. Results may notbe optimal. You can compute the largest connected component byusing ``graspologic.utils.largest_connected_component``.\n",
      "  warnings.warn(msg, UserWarning)\n"
     ]
    },
    {
     "name": "stdout",
     "output_type": "stream",
     "text": [
      "~/Downloads/gtrieScanner_src_01/gtrieScanner -s 3 -m gtrie ~/Downloads/gtrieScanner_src_01/gtries/dir3.gt -d -t html -g temp/edges_adj.csv -o temp/dir3_edges.html \n",
      "~/Downloads/gtrieScanner_src_01/gtrieScanner -s 3 -m gtrie ~/Downloads/gtrieScanner_src_01/gtries/dir3.gt -d -t html -g temp/synth_edges_adj.csv -o temp/dir3_synth_edges.html \n",
      "start processing run 7\n",
      "len nodes 150, adj shape: (150, 150) --- len edge 2689, sum adj 2689\n"
     ]
    },
    {
     "name": "stderr",
     "output_type": "stream",
     "text": [
      "/Users/tonpoppe/anaconda3/envs/tg_geo/lib/python3.11/site-packages/graspologic/embed/base.py:199: UserWarning: Input graph is not fully connected. Results may notbe optimal. You can compute the largest connected component byusing ``graspologic.utils.largest_connected_component``.\n",
      "  warnings.warn(msg, UserWarning)\n"
     ]
    },
    {
     "name": "stdout",
     "output_type": "stream",
     "text": [
      "~/Downloads/gtrieScanner_src_01/gtrieScanner -s 3 -m gtrie ~/Downloads/gtrieScanner_src_01/gtries/dir3.gt -d -t html -g temp/edges_adj.csv -o temp/dir3_edges.html \n",
      "~/Downloads/gtrieScanner_src_01/gtrieScanner -s 3 -m gtrie ~/Downloads/gtrieScanner_src_01/gtries/dir3.gt -d -t html -g temp/synth_edges_adj.csv -o temp/dir3_synth_edges.html \n",
      "start processing run 8\n",
      "len nodes 150, adj shape: (150, 150) --- len edge 2689, sum adj 2689\n"
     ]
    },
    {
     "name": "stderr",
     "output_type": "stream",
     "text": [
      "/Users/tonpoppe/anaconda3/envs/tg_geo/lib/python3.11/site-packages/graspologic/embed/base.py:199: UserWarning: Input graph is not fully connected. Results may notbe optimal. You can compute the largest connected component byusing ``graspologic.utils.largest_connected_component``.\n",
      "  warnings.warn(msg, UserWarning)\n"
     ]
    },
    {
     "name": "stdout",
     "output_type": "stream",
     "text": [
      "~/Downloads/gtrieScanner_src_01/gtrieScanner -s 3 -m gtrie ~/Downloads/gtrieScanner_src_01/gtries/dir3.gt -d -t html -g temp/edges_adj.csv -o temp/dir3_edges.html \n",
      "~/Downloads/gtrieScanner_src_01/gtrieScanner -s 3 -m gtrie ~/Downloads/gtrieScanner_src_01/gtries/dir3.gt -d -t html -g temp/synth_edges_adj.csv -o temp/dir3_synth_edges.html \n",
      "start processing run 9\n",
      "len nodes 150, adj shape: (150, 150) --- len edge 2689, sum adj 2689\n"
     ]
    },
    {
     "name": "stderr",
     "output_type": "stream",
     "text": [
      "/Users/tonpoppe/anaconda3/envs/tg_geo/lib/python3.11/site-packages/graspologic/embed/base.py:199: UserWarning: Input graph is not fully connected. Results may notbe optimal. You can compute the largest connected component byusing ``graspologic.utils.largest_connected_component``.\n",
      "  warnings.warn(msg, UserWarning)\n"
     ]
    },
    {
     "name": "stdout",
     "output_type": "stream",
     "text": [
      "~/Downloads/gtrieScanner_src_01/gtrieScanner -s 3 -m gtrie ~/Downloads/gtrieScanner_src_01/gtries/dir3.gt -d -t html -g temp/edges_adj.csv -o temp/dir3_edges.html \n",
      "~/Downloads/gtrieScanner_src_01/gtrieScanner -s 3 -m gtrie ~/Downloads/gtrieScanner_src_01/gtries/dir3.gt -d -t html -g temp/synth_edges_adj.csv -o temp/dir3_synth_edges.html \n"
     ]
    }
   ],
   "source": [
    "\n",
    "config_dict = {\n",
    "    'base_path': \"data/enron/\",\n",
    "    'nodes_path': \"enron_nodes.parquet\",\n",
    "    'edges_path': \"enron_edges.parquet\",\n",
    "    \"res_folder\": \"data/enron/exp_results/no_labels/dcsbm/\"\n",
    "}\n",
    "res = run_experiment(config_dict, runs=10, verbose=1)\n",
    "stats = get_stats(res)"
   ]
  },
  {
   "cell_type": "code",
   "execution_count": 4,
   "metadata": {},
   "outputs": [
    {
     "data": {
      "text/html": [
       "<div>\n",
       "<style scoped>\n",
       "    .dataframe tbody tr th:only-of-type {\n",
       "        vertical-align: middle;\n",
       "    }\n",
       "\n",
       "    .dataframe tbody tr th {\n",
       "        vertical-align: top;\n",
       "    }\n",
       "\n",
       "    .dataframe thead tr th {\n",
       "        text-align: left;\n",
       "    }\n",
       "\n",
       "    .dataframe thead tr:last-of-type th {\n",
       "        text-align: right;\n",
       "    }\n",
       "</style>\n",
       "<table border=\"1\" class=\"dataframe\">\n",
       "  <thead>\n",
       "    <tr>\n",
       "      <th></th>\n",
       "      <th>value</th>\n",
       "      <th>std</th>\n",
       "    </tr>\n",
       "    <tr>\n",
       "      <th>model</th>\n",
       "      <th>DCSBM</th>\n",
       "      <th>DCSBM</th>\n",
       "    </tr>\n",
       "    <tr>\n",
       "      <th>type</th>\n",
       "      <th></th>\n",
       "      <th></th>\n",
       "    </tr>\n",
       "  </thead>\n",
       "  <tbody>\n",
       "    <tr>\n",
       "      <th>node_attributes</th>\n",
       "      <td>0.000000</td>\n",
       "      <td>0.000000e+00</td>\n",
       "    </tr>\n",
       "    <tr>\n",
       "      <th>edge_attributes</th>\n",
       "      <td>0.293875</td>\n",
       "      <td>2.393564e-17</td>\n",
       "    </tr>\n",
       "    <tr>\n",
       "      <th>dif_cluster_coef</th>\n",
       "      <td>0.053448</td>\n",
       "      <td>1.099341e-02</td>\n",
       "    </tr>\n",
       "    <tr>\n",
       "      <th>Delta_edge_fraction</th>\n",
       "      <td>-0.056266</td>\n",
       "      <td>1.315637e-02</td>\n",
       "    </tr>\n",
       "    <tr>\n",
       "      <th>mean_delta_widget</th>\n",
       "      <td>0.051153</td>\n",
       "      <td>1.962641e-03</td>\n",
       "    </tr>\n",
       "    <tr>\n",
       "      <th>cluster_coef</th>\n",
       "      <td>0.368439</td>\n",
       "      <td>1.099341e-02</td>\n",
       "    </tr>\n",
       "  </tbody>\n",
       "</table>\n",
       "</div>"
      ],
      "text/plain": [
       "                        value           std\n",
       "model                   DCSBM         DCSBM\n",
       "type                                       \n",
       "node_attributes      0.000000  0.000000e+00\n",
       "edge_attributes      0.293875  2.393564e-17\n",
       "dif_cluster_coef     0.053448  1.099341e-02\n",
       "Delta_edge_fraction -0.056266  1.315637e-02\n",
       "mean_delta_widget    0.051153  1.962641e-03\n",
       "cluster_coef         0.368439  1.099341e-02"
      ]
     },
     "execution_count": 4,
     "metadata": {},
     "output_type": "execute_result"
    }
   ],
   "source": [
    "stats"
   ]
  },
  {
   "cell_type": "markdown",
   "metadata": {},
   "source": [
    "Erdos "
   ]
  },
  {
   "cell_type": "code",
   "execution_count": 4,
   "metadata": {},
   "outputs": [
    {
     "name": "stdout",
     "output_type": "stream",
     "text": [
      "start processing run 0\n",
      "len nodes 1000, adj shape: (1000, 1000) --- len edge 9995, sum adj 9995\n",
      "~/Downloads/gtrieScanner_src_01/gtrieScanner -s 3 -m gtrie ~/Downloads/gtrieScanner_src_01/gtries/dir3.gt -d -t html -g temp/edges_adj.csv -o temp/dir3_edges.html \n",
      "~/Downloads/gtrieScanner_src_01/gtrieScanner -s 3 -m gtrie ~/Downloads/gtrieScanner_src_01/gtries/dir3.gt -d -t html -g temp/synth_edges_adj.csv -o temp/dir3_synth_edges.html \n",
      "start processing run 1\n",
      "len nodes 1000, adj shape: (1000, 1000) --- len edge 9995, sum adj 9995\n",
      "~/Downloads/gtrieScanner_src_01/gtrieScanner -s 3 -m gtrie ~/Downloads/gtrieScanner_src_01/gtries/dir3.gt -d -t html -g temp/edges_adj.csv -o temp/dir3_edges.html \n",
      "~/Downloads/gtrieScanner_src_01/gtrieScanner -s 3 -m gtrie ~/Downloads/gtrieScanner_src_01/gtries/dir3.gt -d -t html -g temp/synth_edges_adj.csv -o temp/dir3_synth_edges.html \n",
      "start processing run 2\n",
      "len nodes 1000, adj shape: (1000, 1000) --- len edge 9995, sum adj 9995\n",
      "~/Downloads/gtrieScanner_src_01/gtrieScanner -s 3 -m gtrie ~/Downloads/gtrieScanner_src_01/gtries/dir3.gt -d -t html -g temp/edges_adj.csv -o temp/dir3_edges.html \n",
      "~/Downloads/gtrieScanner_src_01/gtrieScanner -s 3 -m gtrie ~/Downloads/gtrieScanner_src_01/gtries/dir3.gt -d -t html -g temp/synth_edges_adj.csv -o temp/dir3_synth_edges.html \n",
      "start processing run 3\n",
      "len nodes 1000, adj shape: (1000, 1000) --- len edge 9995, sum adj 9995\n",
      "~/Downloads/gtrieScanner_src_01/gtrieScanner -s 3 -m gtrie ~/Downloads/gtrieScanner_src_01/gtries/dir3.gt -d -t html -g temp/edges_adj.csv -o temp/dir3_edges.html \n",
      "~/Downloads/gtrieScanner_src_01/gtrieScanner -s 3 -m gtrie ~/Downloads/gtrieScanner_src_01/gtries/dir3.gt -d -t html -g temp/synth_edges_adj.csv -o temp/dir3_synth_edges.html \n",
      "start processing run 4\n",
      "len nodes 1000, adj shape: (1000, 1000) --- len edge 9995, sum adj 9995\n",
      "~/Downloads/gtrieScanner_src_01/gtrieScanner -s 3 -m gtrie ~/Downloads/gtrieScanner_src_01/gtries/dir3.gt -d -t html -g temp/edges_adj.csv -o temp/dir3_edges.html \n",
      "~/Downloads/gtrieScanner_src_01/gtrieScanner -s 3 -m gtrie ~/Downloads/gtrieScanner_src_01/gtries/dir3.gt -d -t html -g temp/synth_edges_adj.csv -o temp/dir3_synth_edges.html \n",
      "start processing run 5\n",
      "len nodes 1000, adj shape: (1000, 1000) --- len edge 9995, sum adj 9995\n",
      "~/Downloads/gtrieScanner_src_01/gtrieScanner -s 3 -m gtrie ~/Downloads/gtrieScanner_src_01/gtries/dir3.gt -d -t html -g temp/edges_adj.csv -o temp/dir3_edges.html \n",
      "~/Downloads/gtrieScanner_src_01/gtrieScanner -s 3 -m gtrie ~/Downloads/gtrieScanner_src_01/gtries/dir3.gt -d -t html -g temp/synth_edges_adj.csv -o temp/dir3_synth_edges.html \n",
      "start processing run 6\n",
      "len nodes 1000, adj shape: (1000, 1000) --- len edge 9995, sum adj 9995\n",
      "~/Downloads/gtrieScanner_src_01/gtrieScanner -s 3 -m gtrie ~/Downloads/gtrieScanner_src_01/gtries/dir3.gt -d -t html -g temp/edges_adj.csv -o temp/dir3_edges.html \n",
      "~/Downloads/gtrieScanner_src_01/gtrieScanner -s 3 -m gtrie ~/Downloads/gtrieScanner_src_01/gtries/dir3.gt -d -t html -g temp/synth_edges_adj.csv -o temp/dir3_synth_edges.html \n",
      "start processing run 7\n",
      "len nodes 1000, adj shape: (1000, 1000) --- len edge 9995, sum adj 9995\n",
      "~/Downloads/gtrieScanner_src_01/gtrieScanner -s 3 -m gtrie ~/Downloads/gtrieScanner_src_01/gtries/dir3.gt -d -t html -g temp/edges_adj.csv -o temp/dir3_edges.html \n",
      "~/Downloads/gtrieScanner_src_01/gtrieScanner -s 3 -m gtrie ~/Downloads/gtrieScanner_src_01/gtries/dir3.gt -d -t html -g temp/synth_edges_adj.csv -o temp/dir3_synth_edges.html \n",
      "start processing run 8\n",
      "len nodes 1000, adj shape: (1000, 1000) --- len edge 9995, sum adj 9995\n",
      "~/Downloads/gtrieScanner_src_01/gtrieScanner -s 3 -m gtrie ~/Downloads/gtrieScanner_src_01/gtries/dir3.gt -d -t html -g temp/edges_adj.csv -o temp/dir3_edges.html \n",
      "~/Downloads/gtrieScanner_src_01/gtrieScanner -s 3 -m gtrie ~/Downloads/gtrieScanner_src_01/gtries/dir3.gt -d -t html -g temp/synth_edges_adj.csv -o temp/dir3_synth_edges.html \n",
      "start processing run 9\n",
      "len nodes 1000, adj shape: (1000, 1000) --- len edge 9995, sum adj 9995\n",
      "~/Downloads/gtrieScanner_src_01/gtrieScanner -s 3 -m gtrie ~/Downloads/gtrieScanner_src_01/gtries/dir3.gt -d -t html -g temp/edges_adj.csv -o temp/dir3_edges.html \n",
      "~/Downloads/gtrieScanner_src_01/gtrieScanner -s 3 -m gtrie ~/Downloads/gtrieScanner_src_01/gtries/dir3.gt -d -t html -g temp/synth_edges_adj.csv -o temp/dir3_synth_edges.html \n"
     ]
    }
   ],
   "source": [
    "config_dict = {\n",
    "    'base_path': \"data/erdos/\",\n",
    "    'nodes_path': \"erdos_nodes2.parquet\",\n",
    "    'edges_path': \"erdos_edges2.parquet\",\n",
    "    \"res_folder\": \"data/erdos/exp_results/no_labels/dcsbm/\"\n",
    "}\n",
    "res = run_experiment(config_dict, runs=10, verbose=1)\n",
    "stats = get_stats(res)\n",
    "\n",
    "\n"
   ]
  },
  {
   "cell_type": "code",
   "execution_count": 5,
   "metadata": {},
   "outputs": [
    {
     "data": {
      "text/html": [
       "<div>\n",
       "<style scoped>\n",
       "    .dataframe tbody tr th:only-of-type {\n",
       "        vertical-align: middle;\n",
       "    }\n",
       "\n",
       "    .dataframe tbody tr th {\n",
       "        vertical-align: top;\n",
       "    }\n",
       "\n",
       "    .dataframe thead tr th {\n",
       "        text-align: left;\n",
       "    }\n",
       "\n",
       "    .dataframe thead tr:last-of-type th {\n",
       "        text-align: right;\n",
       "    }\n",
       "</style>\n",
       "<table border=\"1\" class=\"dataframe\">\n",
       "  <thead>\n",
       "    <tr>\n",
       "      <th></th>\n",
       "      <th>value</th>\n",
       "      <th>std</th>\n",
       "    </tr>\n",
       "    <tr>\n",
       "      <th>model</th>\n",
       "      <th>DCSBM</th>\n",
       "      <th>DCSBM</th>\n",
       "    </tr>\n",
       "    <tr>\n",
       "      <th>type</th>\n",
       "      <th></th>\n",
       "      <th></th>\n",
       "    </tr>\n",
       "  </thead>\n",
       "  <tbody>\n",
       "    <tr>\n",
       "      <th>node_attributes</th>\n",
       "      <td>0.000000</td>\n",
       "      <td>0.000000e+00</td>\n",
       "    </tr>\n",
       "    <tr>\n",
       "      <th>edge_attributes</th>\n",
       "      <td>0.101030</td>\n",
       "      <td>4.488483e-18</td>\n",
       "    </tr>\n",
       "    <tr>\n",
       "      <th>dif_cluster_coef</th>\n",
       "      <td>-0.002631</td>\n",
       "      <td>6.804661e-04</td>\n",
       "    </tr>\n",
       "    <tr>\n",
       "      <th>Delta_edge_fraction</th>\n",
       "      <td>0.000640</td>\n",
       "      <td>1.010403e-02</td>\n",
       "    </tr>\n",
       "    <tr>\n",
       "      <th>mean_delta_widget</th>\n",
       "      <td>0.003783</td>\n",
       "      <td>2.646250e-04</td>\n",
       "    </tr>\n",
       "    <tr>\n",
       "      <th>cluster_coef</th>\n",
       "      <td>0.021981</td>\n",
       "      <td>6.804661e-04</td>\n",
       "    </tr>\n",
       "  </tbody>\n",
       "</table>\n",
       "</div>"
      ],
      "text/plain": [
       "                        value           std\n",
       "model                   DCSBM         DCSBM\n",
       "type                                       \n",
       "node_attributes      0.000000  0.000000e+00\n",
       "edge_attributes      0.101030  4.488483e-18\n",
       "dif_cluster_coef    -0.002631  6.804661e-04\n",
       "Delta_edge_fraction  0.000640  1.010403e-02\n",
       "mean_delta_widget    0.003783  2.646250e-04\n",
       "cluster_coef         0.021981  6.804661e-04"
      ]
     },
     "execution_count": 5,
     "metadata": {},
     "output_type": "execute_result"
    }
   ],
   "source": [
    "stats"
   ]
  },
  {
   "cell_type": "code",
   "execution_count": null,
   "metadata": {},
   "outputs": [],
   "source": []
  }
 ],
 "metadata": {
  "kernelspec": {
   "display_name": "tg_geo",
   "language": "python",
   "name": "python3"
  },
  "language_info": {
   "codemirror_mode": {
    "name": "ipython",
    "version": 3
   },
   "file_extension": ".py",
   "mimetype": "text/x-python",
   "name": "python",
   "nbconvert_exporter": "python",
   "pygments_lexer": "ipython3",
   "version": "3.11.5"
  },
  "orig_nbformat": 4
 },
 "nbformat": 4,
 "nbformat_minor": 2
}
