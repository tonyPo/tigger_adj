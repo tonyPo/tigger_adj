{
 "cells": [
  {
   "cell_type": "markdown",
   "metadata": {},
   "source": [
    "### runs the gridsearcher in a jupiter notebook"
   ]
  },
  {
   "cell_type": "code",
   "execution_count": 1,
   "metadata": {},
   "outputs": [
    {
     "name": "stdout",
     "output_type": "stream",
     "text": [
      "/Users/tonpoppe/workspace/tigger_adj_rep/tigger_adj\n"
     ]
    }
   ],
   "source": [
    "# Set root dir\n",
    "import os\n",
    "os.chdir('..')\n",
    "print(os.getcwd())"
   ]
  },
  {
   "cell_type": "code",
   "execution_count": 2,
   "metadata": {},
   "outputs": [
    {
     "name": "stdout",
     "output_type": "stream",
     "text": [
      "loaded\n"
     ]
    }
   ],
   "source": [
    "from gridsearch.gridsearcher import *\n",
    "import yaml\n",
    "from tigger_package.orchestrator import Orchestrator"
   ]
  },
  {
   "cell_type": "code",
   "execution_count": 5,
   "metadata": {},
   "outputs": [
    {
     "name": "stderr",
     "output_type": "stream",
     "text": [
      "[I 2024-01-14 11:00:04,726] A new study created in memory with name: no-name-a95b54b6-bb8e-4529-84c8-1a9fc9fce423\n"
     ]
    },
    {
     "name": "stdout",
     "output_type": "stream",
     "text": [
      " epoch 50/97 train loss 4.8518 val loss: 4.704918"
     ]
    },
    {
     "name": "stderr",
     "output_type": "stream",
     "text": [
      "[I 2024-01-14 11:16:58,192] Trial 0 finished with value: 2.4681106898519727 and parameters: {'num_clusters': 7, 'cluster_dim': 15, 'epochs': 115, 'z_dim': 248, 'activation_function_str': 'relu', 'lr': 0.0008898844988563893, 'weight_decay': 2.7447761592965494e-05, 'kl_weight': 9.768729174476969e-06}. Best is trial 0 with value: 2.4681106898519727.\n"
     ]
    },
    {
     "name": "stdout",
     "output_type": "stream",
     "text": [
      " epoch 90/131 train loss 3.3113 val loss: 3.18533"
     ]
    },
    {
     "name": "stderr",
     "output_type": "stream",
     "text": [
      "[I 2024-01-14 11:30:44,927] Trial 1 finished with value: 6.349074951807658 and parameters: {'num_clusters': 21, 'cluster_dim': 10, 'epochs': 118, 'z_dim': 151, 'activation_function_str': 'relu', 'lr': 1.032916850569405e-05, 'weight_decay': 0.00018520660688585078, 'kl_weight': 4.343573930514323e-10}. Best is trial 0 with value: 2.4681106898519727.\n"
     ]
    },
    {
     "name": "stdout",
     "output_type": "stream",
     "text": [
      " epoch 241/439 train loss 3.0413 val loss: 2.8764"
     ]
    },
    {
     "name": "stderr",
     "output_type": "stream",
     "text": [
      "[I 2024-01-14 11:32:40,699] Trial 2 finished with value: 4.690582301881578 and parameters: {'num_clusters': 27, 'cluster_dim': 6, 'epochs': 97, 'z_dim': 143, 'activation_function_str': 'relu', 'lr': 0.0016058187069478093, 'weight_decay': 0.00017810441512983809, 'kl_weight': 0.0006410280086112029}. Best is trial 0 with value: 2.4681106898519727.\n"
     ]
    },
    {
     "name": "stdout",
     "output_type": "stream",
     "text": [
      " epoch 18/162 train loss 6.6450 val loss: 6.61372"
     ]
    },
    {
     "name": "stderr",
     "output_type": "stream",
     "text": [
      "[I 2024-01-14 11:36:54,047] Trial 5 finished with value: 3.162649191750421 and parameters: {'num_clusters': 10, 'cluster_dim': 6, 'epochs': 131, 'z_dim': 192, 'activation_function_str': 'sigmoid', 'lr': 0.0010875112812282562, 'weight_decay': 0.000583894401870108, 'kl_weight': 1.1752994614947618e-10}. Best is trial 0 with value: 2.4681106898519727.\n"
     ]
    },
    {
     "name": "stdout",
     "output_type": "stream",
     "text": [
      " epoch 353/439 train loss 3.0154 val loss: 2.8586"
     ]
    },
    {
     "name": "stderr",
     "output_type": "stream",
     "text": [
      "[I 2024-01-14 12:00:59,737] Trial 8 finished with value: 6.724963082207573 and parameters: {'num_clusters': 19, 'cluster_dim': 11, 'epochs': 366, 'z_dim': 21, 'activation_function_str': 'relu', 'lr': 2.0376691310226962e-05, 'weight_decay': 0.006580049685842385, 'kl_weight': 1.1781365056494112e-05}. Best is trial 0 with value: 2.4681106898519727.\n"
     ]
    },
    {
     "name": "stdout",
     "output_type": "stream",
     "text": [
      " epoch 83/162 train loss 6.5036 val loss: 6.49704"
     ]
    },
    {
     "name": "stderr",
     "output_type": "stream",
     "text": [
      "[I 2024-01-14 12:14:35,740] Trial 3 finished with value: 2.8489964326222736 and parameters: {'num_clusters': 10, 'cluster_dim': 8, 'epochs': 439, 'z_dim': 174, 'activation_function_str': 'relu', 'lr': 0.0002974028811051711, 'weight_decay': 0.0007902748868305895, 'kl_weight': 7.639929405720419e-07}. Best is trial 0 with value: 2.4681106898519727.\n"
     ]
    },
    {
     "name": "stdout",
     "output_type": "stream",
     "text": [
      " epoch 220/490 train loss 4.6587 val loss: 4.5893"
     ]
    },
    {
     "name": "stderr",
     "output_type": "stream",
     "text": [
      "[I 2024-01-14 12:59:11,662] Trial 6 finished with value: 6.466169929504394 and parameters: {'num_clusters': 31, 'cluster_dim': 2, 'epochs': 162, 'z_dim': 134, 'activation_function_str': 'sigmoid', 'lr': 8.392197057600039e-05, 'weight_decay': 0.00010785058266551037, 'kl_weight': 0.001637099467444014}. Best is trial 0 with value: 2.4681106898519727.\n"
     ]
    },
    {
     "name": "stdout",
     "output_type": "stream",
     "text": [
      " epoch 263/490 train loss 4.6330 val loss: 4.5631"
     ]
    },
    {
     "name": "stderr",
     "output_type": "stream",
     "text": [
      "[I 2024-01-14 13:10:06,124] Trial 11 finished with value: 2.6898100031746757 and parameters: {'num_clusters': 7, 'cluster_dim': 6, 'epochs': 268, 'z_dim': 66, 'activation_function_str': 'sigmoid', 'lr': 0.0005221844256960306, 'weight_decay': 0.0003451660458691164, 'kl_weight': 1.9380404883400696e-05}. Best is trial 0 with value: 2.4681106898519727.\n"
     ]
    },
    {
     "name": "stdout",
     "output_type": "stream",
     "text": [
      " epoch 425/490 train loss 4.5746 val loss: 4.5112"
     ]
    },
    {
     "name": "stderr",
     "output_type": "stream",
     "text": [
      "[I 2024-01-14 14:20:56,929] Trial 10 finished with value: 5.58282872835795 and parameters: {'num_clusters': 27, 'cluster_dim': 10, 'epochs': 169, 'z_dim': 178, 'activation_function_str': 'relu', 'lr': 6.907581129587796e-05, 'weight_decay': 0.0004003888296387892, 'kl_weight': 4.846438282708477e-09}. Best is trial 0 with value: 2.4681106898519727.\n"
     ]
    },
    {
     "name": "stdout",
     "output_type": "stream",
     "text": [
      " epoch 137/219 train loss 4.9527 val loss: 5.0429"
     ]
    },
    {
     "name": "stderr",
     "output_type": "stream",
     "text": [
      "[I 2024-01-14 14:51:21,196] Trial 7 finished with value: 4.499755546781752 and parameters: {'num_clusters': 19, 'cluster_dim': 16, 'epochs': 490, 'z_dim': 159, 'activation_function_str': 'relu', 'lr': 0.00017674496404037948, 'weight_decay': 0.0015733025483603016, 'kl_weight': 0.001106739624406051}. Best is trial 0 with value: 2.4681106898519727.\n"
     ]
    },
    {
     "name": "stdout",
     "output_type": "stream",
     "text": [
      " epoch 21/258 train loss 1.9213 val loss: 1.81958"
     ]
    },
    {
     "name": "stderr",
     "output_type": "stream",
     "text": [
      "[I 2024-01-14 14:54:26,149] Trial 4 finished with value: 5.826875072055393 and parameters: {'num_clusters': 20, 'cluster_dim': 9, 'epochs': 400, 'z_dim': 203, 'activation_function_str': 'sigmoid', 'lr': 1.2877186578243297e-05, 'weight_decay': 0.0016120600040101759, 'kl_weight': 1.0259305825639069e-06}. Best is trial 0 with value: 2.4681106898519727.\n"
     ]
    },
    {
     "name": "stdout",
     "output_type": "stream",
     "text": [
      " epoch 174/219 train loss 4.9245 val loss: 5.0434"
     ]
    },
    {
     "name": "stderr",
     "output_type": "stream",
     "text": [
      "[I 2024-01-14 15:22:05,210] Trial 14 finished with value: 1.6939336498578388 and parameters: {'num_clusters': 4, 'cluster_dim': 16, 'epochs': 258, 'z_dim': 251, 'activation_function_str': 'sigmoid', 'lr': 0.0043437400080463505, 'weight_decay': 7.486707736119114e-06, 'kl_weight': 6.288670170169385e-08}. Best is trial 14 with value: 1.6939336498578388.\n"
     ]
    },
    {
     "name": "stdout",
     "output_type": "stream",
     "text": [
      " epoch 44/252 train loss 1.8938 val loss: 1.77211"
     ]
    },
    {
     "name": "stderr",
     "output_type": "stream",
     "text": [
      "[I 2024-01-14 15:27:06,441] Trial 15 finished with value: 1.7000840716891819 and parameters: {'num_clusters': 4, 'cluster_dim': 16, 'epochs': 277, 'z_dim': 254, 'activation_function_str': 'sigmoid', 'lr': 0.004000156482472535, 'weight_decay': 9.804733120873629e-06, 'kl_weight': 2.2801455117024024e-05}. Best is trial 14 with value: 1.6939336498578388.\n"
     ]
    },
    {
     "name": "stdout",
     "output_type": "stream",
     "text": [
      " epoch 251/252 train loss 1.8261 val loss: 1.7009"
     ]
    },
    {
     "name": "stderr",
     "output_type": "stream",
     "text": [
      "[I 2024-01-14 15:55:35,204] Trial 16 finished with value: 1.7015658246146308 and parameters: {'num_clusters': 4, 'cluster_dim': 16, 'epochs': 252, 'z_dim': 254, 'activation_function_str': 'sigmoid', 'lr': 0.003198211245410966, 'weight_decay': 6.15298644938287e-06, 'kl_weight': 4.628674716883365e-08}. Best is trial 14 with value: 1.6939336498578388.\n"
     ]
    },
    {
     "name": "stdout",
     "output_type": "stream",
     "text": [
      " epoch 23/320 train loss 3.9134 val loss: 3.86106"
     ]
    },
    {
     "name": "stderr",
     "output_type": "stream",
     "text": [
      "[I 2024-01-14 16:10:05,197] Trial 9 finished with value: 5.047803089353773 and parameters: {'num_clusters': 32, 'cluster_dim': 16, 'epochs': 219, 'z_dim': 190, 'activation_function_str': 'relu', 'lr': 0.0010273704778235777, 'weight_decay': 1.0140850222720649e-05, 'kl_weight': 2.6603245249306934e-09}. Best is trial 14 with value: 1.6939336498578388.\n"
     ]
    },
    {
     "name": "stdout",
     "output_type": "stream",
     "text": [
      " epoch 205/320 train loss 3.7355 val loss: 3.7412"
     ]
    },
    {
     "name": "stderr",
     "output_type": "stream",
     "text": [
      "[I 2024-01-14 17:08:38,027] Trial 17 finished with value: 3.524985639254252 and parameters: {'num_clusters': 13, 'cluster_dim': 13, 'epochs': 277, 'z_dim': 256, 'activation_function_str': 'sigmoid', 'lr': 0.004731163527382164, 'weight_decay': 1.3477268144312369e-06, 'kl_weight': 4.6786227893984694e-08}. Best is trial 14 with value: 1.6939336498578388.\n"
     ]
    },
    {
     "name": "stdout",
     "output_type": "stream",
     "text": [
      " epoch 293/323 train loss 3.7023 val loss: 3.7067"
     ]
    },
    {
     "name": "stderr",
     "output_type": "stream",
     "text": [
      "[I 2024-01-14 17:45:16,022] Trial 18 finished with value: 3.7316811217202086 and parameters: {'num_clusters': 14, 'cluster_dim': 13, 'epochs': 320, 'z_dim': 223, 'activation_function_str': 'sigmoid', 'lr': 0.0024966066461856867, 'weight_decay': 1.3969092393478653e-06, 'kl_weight': 4.250393859339995e-08}. Best is trial 14 with value: 1.6939336498578388.\n"
     ]
    },
    {
     "name": "stdout",
     "output_type": "stream",
     "text": [
      " epoch 366/432 train loss 4.6332 val loss: 4.5731"
     ]
    },
    {
     "name": "stderr",
     "output_type": "stream",
     "text": [
      "[I 2024-01-14 17:53:57,367] Trial 19 finished with value: 3.7089430809021 and parameters: {'num_clusters': 14, 'cluster_dim': 13, 'epochs': 323, 'z_dim': 226, 'activation_function_str': 'sigmoid', 'lr': 0.004741291076849717, 'weight_decay': 1.0998948294111602e-06, 'kl_weight': 5.513911686683104e-07}. Best is trial 14 with value: 1.6939336498578388.\n"
     ]
    },
    {
     "name": "stdout",
     "output_type": "stream",
     "text": [
      " epoch 209/210 train loss 1.8356 val loss: 1.7175"
     ]
    },
    {
     "name": "stderr",
     "output_type": "stream",
     "text": [
      "[I 2024-01-14 18:01:37,361] Trial 22 finished with value: 1.7162004550298053 and parameters: {'num_clusters': 4, 'cluster_dim': 14, 'epochs': 210, 'z_dim': 96, 'activation_function_str': 'sigmoid', 'lr': 0.0021651477491167162, 'weight_decay': 3.089471993912926e-05, 'kl_weight': 0.000109831113852915}. Best is trial 14 with value: 1.6939336498578388.\n"
     ]
    },
    {
     "name": "stdout",
     "output_type": "stream",
     "text": [
      " epoch 119/316 train loss 2.6775 val loss: 2.5564"
     ]
    },
    {
     "name": "stderr",
     "output_type": "stream",
     "text": [
      "[I 2024-01-14 18:16:53,593] Trial 21 finished with value: 1.6944759885470073 and parameters: {'num_clusters': 4, 'cluster_dim': 13, 'epochs': 330, 'z_dim': 223, 'activation_function_str': 'sigmoid', 'lr': 0.00402552300207997, 'weight_decay': 3.0196794503809107e-05, 'kl_weight': 0.0001041050415549564}. Best is trial 14 with value: 1.6939336498578388.\n"
     ]
    },
    {
     "name": "stdout",
     "output_type": "stream",
     "text": [
      " epoch 174/316 train loss 2.6522 val loss: 2.5348"
     ]
    },
    {
     "name": "stderr",
     "output_type": "stream",
     "text": [
      "[I 2024-01-14 18:24:21,693] Trial 13 finished with value: 4.568639310201009 and parameters: {'num_clusters': 24, 'cluster_dim': 14, 'epochs': 432, 'z_dim': 196, 'activation_function_str': 'relu', 'lr': 0.000409922420699807, 'weight_decay': 0.00043543552447689146, 'kl_weight': 3.116131594392396e-08}. Best is trial 14 with value: 1.6939336498578388.\n"
     ]
    },
    {
     "name": "stdout",
     "output_type": "stream",
     "text": [
      " epoch 4/331 train loss 2.9858 val loss: 2.777193"
     ]
    },
    {
     "name": "stderr",
     "output_type": "stream",
     "text": [
      "[I 2024-01-14 18:24:54,480] Trial 12 finished with value: 5.240630828009712 and parameters: {'num_clusters': 32, 'cluster_dim': 9, 'epochs': 288, 'z_dim': 204, 'activation_function_str': 'sigmoid', 'lr': 0.0010950547665646228, 'weight_decay': 0.00021076710198540628, 'kl_weight': 2.1254474962795507e-05}. Best is trial 14 with value: 1.6939336498578388.\n"
     ]
    },
    {
     "name": "stdout",
     "output_type": "stream",
     "text": [
      " epoch 179/338 train loss 2.6982 val loss: 2.5001"
     ]
    },
    {
     "name": "stderr",
     "output_type": "stream",
     "text": [
      "[I 2024-01-14 18:39:30,134] Trial 23 finished with value: 2.5117006513807505 and parameters: {'num_clusters': 7, 'cluster_dim': 12, 'epochs': 316, 'z_dim': 223, 'activation_function_str': 'sigmoid', 'lr': 0.000518478016610308, 'weight_decay': 8.797034969688983e-06, 'kl_weight': 0.006037923393038679}. Best is trial 14 with value: 1.6939336498578388.\n"
     ]
    },
    {
     "name": "stdout",
     "output_type": "stream",
     "text": [
      " epoch 45/362 train loss 1.8955 val loss: 1.77912"
     ]
    },
    {
     "name": "stderr",
     "output_type": "stream",
     "text": [
      "[I 2024-01-14 18:43:10,599] Trial 20 finished with value: 3.7284369203779435 and parameters: {'num_clusters': 14, 'cluster_dim': 13, 'epochs': 348, 'z_dim': 221, 'activation_function_str': 'sigmoid', 'lr': 0.0026680703735274857, 'weight_decay': 3.0166345179562063e-05, 'kl_weight': 4.2816567884592243e-07}. Best is trial 14 with value: 1.6939336498578388.\n"
     ]
    },
    {
     "name": "stdout",
     "output_type": "stream",
     "text": [
      " epoch 215/362 train loss 1.8364 val loss: 1.6860"
     ]
    },
    {
     "name": "stderr",
     "output_type": "stream",
     "text": [
      "[I 2024-01-14 18:55:40,605] Trial 24 finished with value: 2.479741983943515 and parameters: {'num_clusters': 8, 'cluster_dim': 12, 'epochs': 338, 'z_dim': 220, 'activation_function_str': 'sigmoid', 'lr': 0.0004678925817297889, 'weight_decay': 3.648194702719405e-05, 'kl_weight': 0.005089434098699862}. Best is trial 14 with value: 1.6939336498578388.\n"
     ]
    },
    {
     "name": "stdout",
     "output_type": "stream",
     "text": [
      " epoch 223/362 train loss 1.8360 val loss: 1.7178"
     ]
    },
    {
     "name": "stderr",
     "output_type": "stream",
     "text": [
      "[I 2024-01-14 18:56:14,040] Trial 25 finished with value: 2.4677382667859393 and parameters: {'num_clusters': 7, 'cluster_dim': 12, 'epochs': 331, 'z_dim': 224, 'activation_function_str': 'sigmoid', 'lr': 0.0030397796963736764, 'weight_decay': 5.751964614674562e-06, 'kl_weight': 7.819890989541865e-05}. Best is trial 14 with value: 1.6939336498578388.\n"
     ]
    },
    {
     "name": "stdout",
     "output_type": "stream",
     "text": [
      " epoch 30/230 train loss 1.9063 val loss: 1.81976"
     ]
    },
    {
     "name": "stderr",
     "output_type": "stream",
     "text": [
      "[I 2024-01-14 18:58:16,761] Trial 28 finished with value: 1.7043097058931989 and parameters: {'num_clusters': 4, 'cluster_dim': 16, 'epochs': 208, 'z_dim': 233, 'activation_function_str': 'sigmoid', 'lr': 0.004554414339650635, 'weight_decay': 3.7336485315321257e-06, 'kl_weight': 0.00015080069113636407}. Best is trial 14 with value: 1.6939336498578388.\n"
     ]
    },
    {
     "name": "stdout",
     "output_type": "stream",
     "text": [
      " epoch 287/362 train loss 1.8289 val loss: 1.7125val loss: 1.7683"
     ]
    },
    {
     "name": "stderr",
     "output_type": "stream",
     "text": [
      "[I 2024-01-14 19:00:28,981] Trial 26 finished with value: 2.4646952311197916 and parameters: {'num_clusters': 7, 'cluster_dim': 12, 'epochs': 366, 'z_dim': 225, 'activation_function_str': 'sigmoid', 'lr': 0.003170070795407802, 'weight_decay': 5.257857237741653e-06, 'kl_weight': 7.431508442516781e-05}. Best is trial 14 with value: 1.6939336498578388.\n"
     ]
    },
    {
     "name": "stdout",
     "output_type": "stream",
     "text": [
      " epoch 135/229 train loss 1.8368 val loss: 1.7120"
     ]
    },
    {
     "name": "stderr",
     "output_type": "stream",
     "text": [
      "[I 2024-01-14 19:04:38,886] Trial 32 finished with value: 2.855369234085083 and parameters: {'num_clusters': 10, 'cluster_dim': 15, 'epochs': 66, 'z_dim': 121, 'activation_function_str': 'sigmoid', 'lr': 0.0019439517258100802, 'weight_decay': 1.7393507908423257e-05, 'kl_weight': 3.861513033991909e-06}. Best is trial 14 with value: 1.6939336498578388.\n"
     ]
    },
    {
     "name": "stdout",
     "output_type": "stream",
     "text": [
      " epoch 138/230 train loss 1.8332 val loss: 1.7056"
     ]
    },
    {
     "name": "stderr",
     "output_type": "stream",
     "text": [
      "[I 2024-01-14 19:05:10,752] Trial 27 finished with value: 1.6912908090485466 and parameters: {'num_clusters': 4, 'cluster_dim': 15, 'epochs': 362, 'z_dim': 240, 'activation_function_str': 'sigmoid', 'lr': 0.0031659545630891997, 'weight_decay': 3.166251795117001e-05, 'kl_weight': 0.00018369433829972862}. Best is trial 27 with value: 1.6912908090485466.\n"
     ]
    },
    {
     "name": "stdout",
     "output_type": "stream",
     "text": [
      " epoch 186/386 train loss 3.1435 val loss: 2.9547"
     ]
    },
    {
     "name": "stderr",
     "output_type": "stream",
     "text": [
      "[I 2024-01-14 19:12:07,132] Trial 29 finished with value: 1.6931899070739747 and parameters: {'num_clusters': 4, 'cluster_dim': 15, 'epochs': 229, 'z_dim': 237, 'activation_function_str': 'sigmoid', 'lr': 0.004981016448350137, 'weight_decay': 3.223477653378271e-06, 'kl_weight': 0.00011015460708009335}. Best is trial 27 with value: 1.6912908090485466.\n"
     ]
    },
    {
     "name": "stdout",
     "output_type": "stream",
     "text": [
      " epoch 189/386 train loss 3.1444 val loss: 2.9598"
     ]
    },
    {
     "name": "stderr",
     "output_type": "stream",
     "text": [
      "[I 2024-01-14 19:12:23,949] Trial 30 finished with value: 1.6994064066145156 and parameters: {'num_clusters': 4, 'cluster_dim': 15, 'epochs': 230, 'z_dim': 236, 'activation_function_str': 'sigmoid', 'lr': 0.004129721379327743, 'weight_decay': 4.086032625591708e-06, 'kl_weight': 3.9044641771534904e-06}. Best is trial 27 with value: 1.6912908090485466.\n"
     ]
    },
    {
     "name": "stdout",
     "output_type": "stream",
     "text": [
      " epoch 162/393 train loss 2.4404 val loss: 2.3325"
     ]
    },
    {
     "name": "stderr",
     "output_type": "stream",
     "text": [
      "[I 2024-01-14 19:29:57,782] Trial 31 finished with value: 2.9426446835199993 and parameters: {'num_clusters': 11, 'cluster_dim': 15, 'epochs': 386, 'z_dim': 118, 'activation_function_str': 'sigmoid', 'lr': 0.0017591311821222478, 'weight_decay': 1.668768641738223e-05, 'kl_weight': 2.9582163139666756e-06}. Best is trial 27 with value: 1.6912908090485466.\n"
     ]
    },
    {
     "name": "stdout",
     "output_type": "stream",
     "text": [
      " epoch 81/247 train loss 2.2890 val loss: 2.15208"
     ]
    },
    {
     "name": "stderr",
     "output_type": "stream",
     "text": [
      "[I 2024-01-14 19:38:20,844] Trial 35 finished with value: 2.3146214644114176 and parameters: {'num_clusters': 6, 'cluster_dim': 15, 'epochs': 251, 'z_dim': 240, 'activation_function_str': 'sigmoid', 'lr': 0.0016075982922698709, 'weight_decay': 7.456536003626624e-05, 'kl_weight': 0.0004428490214627385}. Best is trial 27 with value: 1.6912908090485466.\n"
     ]
    },
    {
     "name": "stdout",
     "output_type": "stream",
     "text": [
      " epoch 233/247 train loss 2.2444 val loss: 2.1110"
     ]
    },
    {
     "name": "stderr",
     "output_type": "stream",
     "text": [
      "[I 2024-01-14 19:55:16,984] Trial 36 finished with value: 2.3045149630970423 and parameters: {'num_clusters': 6, 'cluster_dim': 14, 'epochs': 393, 'z_dim': 241, 'activation_function_str': 'sigmoid', 'lr': 0.0015786855232489973, 'weight_decay': 6.974797244671165e-05, 'kl_weight': 0.00041687865372980095}. Best is trial 27 with value: 1.6912908090485466.\n"
     ]
    },
    {
     "name": "stdout",
     "output_type": "stream",
     "text": [
      " epoch 239/247 train loss 2.2404 val loss: 2.0977"
     ]
    },
    {
     "name": "stderr",
     "output_type": "stream",
     "text": [
      "[I 2024-01-14 19:55:56,981] Trial 33 finished with value: 3.2592873414357504 and parameters: {'num_clusters': 12, 'cluster_dim': 15, 'epochs': 237, 'z_dim': 241, 'activation_function_str': 'sigmoid', 'lr': 0.001740920873908265, 'weight_decay': 5.255615511704098e-05, 'kl_weight': 2.566018524051911e-06}. Best is trial 27 with value: 1.6912908090485466.\n"
     ]
    },
    {
     "name": "stdout",
     "output_type": "stream",
     "text": [
      " epoch 6/300 train loss 3.6670 val loss: 3.583338"
     ]
    },
    {
     "name": "stderr",
     "output_type": "stream",
     "text": [
      "[I 2024-01-14 19:56:49,127] Trial 37 finished with value: 2.118155288696289 and parameters: {'num_clusters': 5, 'cluster_dim': 14, 'epochs': 247, 'z_dim': 238, 'activation_function_str': 'sigmoid', 'lr': 0.0015300098287343252, 'weight_decay': 6.123897161213913e-05, 'kl_weight': 0.0002968788849350543}. Best is trial 27 with value: 1.6912908090485466.\n"
     ]
    },
    {
     "name": "stdout",
     "output_type": "stream",
     "text": [
      " epoch 244/301 train loss 2.8303 val loss: 2.6800"
     ]
    },
    {
     "name": "stderr",
     "output_type": "stream",
     "text": [
      "[I 2024-01-14 20:36:16,890] Trial 41 finished with value: 2.4601540552245247 and parameters: {'num_clusters': 8, 'cluster_dim': 11, 'epochs': 302, 'z_dim': 204, 'activation_function_str': 'sigmoid', 'lr': 0.0007775751902882448, 'weight_decay': 2.388707684453387e-06, 'kl_weight': 1.3390300751815105e-07}. Best is trial 27 with value: 1.6912908090485466.\n"
     ]
    },
    {
     "name": "stdout",
     "output_type": "stream",
     "text": [
      " epoch 78/186 train loss 2.9545 val loss: 2.74828"
     ]
    },
    {
     "name": "stderr",
     "output_type": "stream",
     "text": [
      "[I 2024-01-14 20:44:26,218] Trial 39 finished with value: 2.677490425109863 and parameters: {'num_clusters': 9, 'cluster_dim': 14, 'epochs': 301, 'z_dim': 210, 'activation_function_str': 'sigmoid', 'lr': 0.0008236424661757381, 'weight_decay': 2.218308845096346e-06, 'kl_weight': 1.3638707938305467e-07}. Best is trial 27 with value: 1.6912908090485466.\n"
     ]
    },
    {
     "name": "stdout",
     "output_type": "stream",
     "text": [
      " epoch 81/186 train loss 2.9557 val loss: 2.74613"
     ]
    },
    {
     "name": "stderr",
     "output_type": "stream",
     "text": [
      "[I 2024-01-14 20:44:46,819] Trial 40 finished with value: 2.659047871165805 and parameters: {'num_clusters': 9, 'cluster_dim': 14, 'epochs': 300, 'z_dim': 209, 'activation_function_str': 'sigmoid', 'lr': 0.00075719109039666, 'weight_decay': 2.4684337249881587e-06, 'kl_weight': 1.9697064743519284e-07}. Best is trial 27 with value: 1.6912908090485466.\n"
     ]
    },
    {
     "name": "stdout",
     "output_type": "stream",
     "text": [
      " epoch 58/182 train loss 4.5334 val loss: 4.49521"
     ]
    },
    {
     "name": "stderr",
     "output_type": "stream",
     "text": [
      "[I 2024-01-14 21:05:59,237] Trial 42 finished with value: 2.6978308412763807 and parameters: {'num_clusters': 9, 'cluster_dim': 3, 'epochs': 186, 'z_dim': 165, 'activation_function_str': 'sigmoid', 'lr': 0.0008556707383146349, 'weight_decay': 2.4229752540685573e-06, 'kl_weight': 0.0023744338180553826}. Best is trial 27 with value: 1.6912908090485466.\n"
     ]
    },
    {
     "name": "stdout",
     "output_type": "stream",
     "text": [
      " epoch 381/398 train loss 4.0123 val loss: 3.9214"
     ]
    },
    {
     "name": "stderr",
     "output_type": "stream",
     "text": [
      "[I 2024-01-14 21:33:17,762] Trial 44 finished with value: 4.126289078924391 and parameters: {'num_clusters': 16, 'cluster_dim': 2, 'epochs': 182, 'z_dim': 167, 'activation_function_str': 'relu', 'lr': 0.000211331055365496, 'weight_decay': 1.8984696333970895e-05, 'kl_weight': 3.874240160032297e-09}. Best is trial 27 with value: 1.6912908090485466.\n"
     ]
    },
    {
     "name": "stdout",
     "output_type": "stream",
     "text": [
      " epoch 379/436 train loss 2.8782 val loss: 2.7189"
     ]
    },
    {
     "name": "stderr",
     "output_type": "stream",
     "text": [
      "[I 2024-01-14 21:39:35,132] Trial 34 finished with value: 3.9268213695949976 and parameters: {'num_clusters': 16, 'cluster_dim': 15, 'epochs': 398, 'z_dim': 243, 'activation_function_str': 'sigmoid', 'lr': 0.001462345641798857, 'weight_decay': 4.690187326571889e-05, 'kl_weight': 3.126439767467796e-06}. Best is trial 27 with value: 1.6912908090485466.\n"
     ]
    },
    {
     "name": "stdout",
     "output_type": "stream",
     "text": [
      " epoch 76/136 train loss 2.2440 val loss: 2.13244"
     ]
    },
    {
     "name": "stderr",
     "output_type": "stream",
     "text": [
      "[I 2024-01-14 21:45:38,771] Trial 43 finished with value: 2.7078566286298966 and parameters: {'num_clusters': 9, 'cluster_dim': 2, 'epochs': 436, 'z_dim': 184, 'activation_function_str': 'relu', 'lr': 0.00014335093506386603, 'weight_decay': 1.7598669801805152e-05, 'kl_weight': 0.001489046384890566}. Best is trial 27 with value: 1.6912908090485466.\n"
     ]
    },
    {
     "name": "stdout",
     "output_type": "stream",
     "text": [
      " epoch 105/136 train loss 2.2326 val loss: 2.1175"
     ]
    },
    {
     "name": "stderr",
     "output_type": "stream",
     "text": [
      "[I 2024-01-14 21:47:53,896] Trial 46 finished with value: 2.1082318054305182 and parameters: {'num_clusters': 5, 'cluster_dim': 15, 'epochs': 139, 'z_dim': 248, 'activation_function_str': 'sigmoid', 'lr': 0.0035707043703368025, 'weight_decay': 1.2011351770139866e-05, 'kl_weight': 5.4751883573282165e-06}. Best is trial 27 with value: 1.6912908090485466.\n"
     ]
    },
    {
     "name": "stdout",
     "output_type": "stream",
     "text": [
      " epoch 18/229 train loss 2.5743 val loss: 2.41262"
     ]
    },
    {
     "name": "stderr",
     "output_type": "stream",
     "text": [
      "[I 2024-01-14 21:49:54,240] Trial 38 finished with value: 3.9971310165193343 and parameters: {'num_clusters': 17, 'cluster_dim': 14, 'epochs': 298, 'z_dim': 243, 'activation_function_str': 'sigmoid', 'lr': 0.0007350664626013349, 'weight_decay': 5.9031931051990284e-05, 'kl_weight': 0.000384403034326112}. Best is trial 27 with value: 1.6912908090485466.\n"
     ]
    },
    {
     "name": "stdout",
     "output_type": "stream",
     "text": [
      " epoch 52/158 train loss 2.2782 val loss: 2.21585"
     ]
    },
    {
     "name": "stderr",
     "output_type": "stream",
     "text": [
      "[I 2024-01-14 21:50:13,137] Trial 47 finished with value: 2.109481636683147 and parameters: {'num_clusters': 5, 'cluster_dim': 16, 'epochs': 136, 'z_dim': 186, 'activation_function_str': 'sigmoid', 'lr': 0.0036307829915932055, 'weight_decay': 1.1641742336006207e-05, 'kl_weight': 5.332317322417279e-05}. Best is trial 27 with value: 1.6912908090485466.\n"
     ]
    },
    {
     "name": "stdout",
     "output_type": "stream",
     "text": [
      " epoch 108/229 train loss 2.4548 val loss: 2.3385"
     ]
    },
    {
     "name": "stderr",
     "output_type": "stream",
     "text": [
      "[I 2024-01-14 21:56:24,390] Trial 48 finished with value: 2.152233405907949 and parameters: {'num_clusters': 5, 'cluster_dim': 16, 'epochs': 158, 'z_dim': 211, 'activation_function_str': 'sigmoid', 'lr': 0.0036046416434611563, 'weight_decay': 0.00011046703052838762, 'kl_weight': 3.041071335084433e-05}. Best is trial 27 with value: 1.6912908090485466.\n"
     ]
    },
    {
     "name": "stdout",
     "output_type": "stream",
     "text": [
      " epoch 228/229 train loss 2.4444 val loss: 2.3479"
     ]
    },
    {
     "name": "stderr",
     "output_type": "stream",
     "text": [
      "[I 2024-01-14 22:03:47,094] Trial 49 finished with value: 2.341096644931369 and parameters: {'num_clusters': 6, 'cluster_dim': 16, 'epochs': 229, 'z_dim': 233, 'activation_function_str': 'sigmoid', 'lr': 0.0024533536452709184, 'weight_decay': 0.00013088500589899108, 'kl_weight': 4.059323768466291e-05}. Best is trial 27 with value: 1.6912908090485466.\n"
     ]
    },
    {
     "name": "stdout",
     "output_type": "stream",
     "text": [
      " epoch 419/420 train loss 3.9107 val loss: 3.9114"
     ]
    },
    {
     "name": "stderr",
     "output_type": "stream",
     "text": [
      "[I 2024-01-14 22:16:22,925] Trial 45 finished with value: 3.9164101706610785 and parameters: {'num_clusters': 16, 'cluster_dim': 15, 'epochs': 420, 'z_dim': 183, 'activation_function_str': 'sigmoid', 'lr': 0.0036009988725778657, 'weight_decay': 1.77229204359284e-05, 'kl_weight': 4.4884552290016305e-05}. Best is trial 27 with value: 1.6912908090485466.\n"
     ]
    },
    {
     "name": "stdout",
     "output_type": "stream",
     "text": [
      " epoch 420/420 train loss 3.9105 val loss: 3.9030"
     ]
    },
    {
     "data": {
      "application/vnd.plotly.v1+json": {
       "config": {
        "plotlyServerURL": "https://plot.ly"
       },
       "data": [
        {
         "marker": {
          "color": [
           0,
           1,
           2,
           3,
           4,
           5,
           6,
           7,
           8,
           9,
           10,
           11,
           12,
           13,
           14,
           15,
           16,
           17,
           18,
           19,
           20,
           21,
           22,
           23,
           24,
           25,
           26,
           27,
           28,
           29,
           30,
           31,
           32,
           33,
           34,
           35,
           36,
           37,
           38,
           39,
           40,
           41,
           42,
           43,
           44,
           45,
           46,
           47,
           48,
           49
          ],
          "colorbar": {
           "title": {
            "text": "Trial"
           },
           "x": 1,
           "xpad": 40
          },
          "colorscale": [
           [
            0,
            "rgb(247,251,255)"
           ],
           [
            0.125,
            "rgb(222,235,247)"
           ],
           [
            0.25,
            "rgb(198,219,239)"
           ],
           [
            0.375,
            "rgb(158,202,225)"
           ],
           [
            0.5,
            "rgb(107,174,214)"
           ],
           [
            0.625,
            "rgb(66,146,198)"
           ],
           [
            0.75,
            "rgb(33,113,181)"
           ],
           [
            0.875,
            "rgb(8,81,156)"
           ],
           [
            1,
            "rgb(8,48,107)"
           ]
          ],
          "line": {
           "color": "Grey",
           "width": 0.5
          },
          "showscale": true
         },
         "mode": "markers",
         "name": "Feasible Trial",
         "showlegend": false,
         "type": "scatter",
         "x": [
          "relu",
          "relu",
          "relu",
          "relu",
          "sigmoid",
          "sigmoid",
          "sigmoid",
          "relu",
          "relu",
          "relu",
          "relu",
          "sigmoid",
          "sigmoid",
          "relu",
          "sigmoid",
          "sigmoid",
          "sigmoid",
          "sigmoid",
          "sigmoid",
          "sigmoid",
          "sigmoid",
          "sigmoid",
          "sigmoid",
          "sigmoid",
          "sigmoid",
          "sigmoid",
          "sigmoid",
          "sigmoid",
          "sigmoid",
          "sigmoid",
          "sigmoid",
          "sigmoid",
          "sigmoid",
          "sigmoid",
          "sigmoid",
          "sigmoid",
          "sigmoid",
          "sigmoid",
          "sigmoid",
          "sigmoid",
          "sigmoid",
          "sigmoid",
          "sigmoid",
          "relu",
          "relu",
          "sigmoid",
          "sigmoid",
          "sigmoid",
          "sigmoid",
          "sigmoid"
         ],
         "xaxis": "x",
         "y": [
          2.4681106898519727,
          6.349074951807658,
          4.690582301881578,
          2.8489964326222736,
          5.826875072055393,
          3.162649191750421,
          6.466169929504394,
          4.499755546781752,
          6.724963082207573,
          5.047803089353773,
          5.58282872835795,
          2.6898100031746757,
          5.240630828009712,
          4.568639310201009,
          1.6939336498578388,
          1.7000840716891819,
          1.7015658246146308,
          3.524985639254252,
          3.7316811217202086,
          3.7089430809021,
          3.7284369203779435,
          1.6944759885470073,
          1.7162004550298053,
          2.5117006513807505,
          2.479741983943515,
          2.4677382667859393,
          2.4646952311197916,
          1.6912908090485466,
          1.7043097058931989,
          1.6931899070739747,
          1.6994064066145156,
          2.9426446835199993,
          2.855369234085083,
          3.2592873414357504,
          3.9268213695949976,
          2.3146214644114176,
          2.3045149630970423,
          2.118155288696289,
          3.9971310165193343,
          2.677490425109863,
          2.659047871165805,
          2.4601540552245247,
          2.6978308412763807,
          2.7078566286298966,
          4.126289078924391,
          3.9164101706610785,
          2.1082318054305182,
          2.109481636683147,
          2.152233405907949,
          2.341096644931369
         ],
         "yaxis": "y"
        },
        {
         "marker": {
          "color": [
           0,
           1,
           2,
           3,
           4,
           5,
           6,
           7,
           8,
           9,
           10,
           11,
           12,
           13,
           14,
           15,
           16,
           17,
           18,
           19,
           20,
           21,
           22,
           23,
           24,
           25,
           26,
           27,
           28,
           29,
           30,
           31,
           32,
           33,
           34,
           35,
           36,
           37,
           38,
           39,
           40,
           41,
           42,
           43,
           44,
           45,
           46,
           47,
           48,
           49
          ],
          "colorbar": {
           "title": {
            "text": "Trial"
           },
           "x": 1,
           "xpad": 40
          },
          "colorscale": [
           [
            0,
            "rgb(247,251,255)"
           ],
           [
            0.125,
            "rgb(222,235,247)"
           ],
           [
            0.25,
            "rgb(198,219,239)"
           ],
           [
            0.375,
            "rgb(158,202,225)"
           ],
           [
            0.5,
            "rgb(107,174,214)"
           ],
           [
            0.625,
            "rgb(66,146,198)"
           ],
           [
            0.75,
            "rgb(33,113,181)"
           ],
           [
            0.875,
            "rgb(8,81,156)"
           ],
           [
            1,
            "rgb(8,48,107)"
           ]
          ],
          "line": {
           "color": "Grey",
           "width": 0.5
          },
          "showscale": false
         },
         "mode": "markers",
         "name": "Feasible Trial",
         "showlegend": false,
         "type": "scatter",
         "x": [
          15,
          10,
          6,
          8,
          9,
          6,
          2,
          16,
          11,
          16,
          10,
          6,
          9,
          14,
          16,
          16,
          16,
          13,
          13,
          13,
          13,
          13,
          14,
          12,
          12,
          12,
          12,
          15,
          16,
          15,
          15,
          15,
          15,
          15,
          15,
          15,
          14,
          14,
          14,
          14,
          14,
          11,
          3,
          2,
          2,
          15,
          15,
          16,
          16,
          16
         ],
         "xaxis": "x2",
         "y": [
          2.4681106898519727,
          6.349074951807658,
          4.690582301881578,
          2.8489964326222736,
          5.826875072055393,
          3.162649191750421,
          6.466169929504394,
          4.499755546781752,
          6.724963082207573,
          5.047803089353773,
          5.58282872835795,
          2.6898100031746757,
          5.240630828009712,
          4.568639310201009,
          1.6939336498578388,
          1.7000840716891819,
          1.7015658246146308,
          3.524985639254252,
          3.7316811217202086,
          3.7089430809021,
          3.7284369203779435,
          1.6944759885470073,
          1.7162004550298053,
          2.5117006513807505,
          2.479741983943515,
          2.4677382667859393,
          2.4646952311197916,
          1.6912908090485466,
          1.7043097058931989,
          1.6931899070739747,
          1.6994064066145156,
          2.9426446835199993,
          2.855369234085083,
          3.2592873414357504,
          3.9268213695949976,
          2.3146214644114176,
          2.3045149630970423,
          2.118155288696289,
          3.9971310165193343,
          2.677490425109863,
          2.659047871165805,
          2.4601540552245247,
          2.6978308412763807,
          2.7078566286298966,
          4.126289078924391,
          3.9164101706610785,
          2.1082318054305182,
          2.109481636683147,
          2.152233405907949,
          2.341096644931369
         ],
         "yaxis": "y2"
        },
        {
         "marker": {
          "color": [
           0,
           1,
           2,
           3,
           4,
           5,
           6,
           7,
           8,
           9,
           10,
           11,
           12,
           13,
           14,
           15,
           16,
           17,
           18,
           19,
           20,
           21,
           22,
           23,
           24,
           25,
           26,
           27,
           28,
           29,
           30,
           31,
           32,
           33,
           34,
           35,
           36,
           37,
           38,
           39,
           40,
           41,
           42,
           43,
           44,
           45,
           46,
           47,
           48,
           49
          ],
          "colorbar": {
           "title": {
            "text": "Trial"
           },
           "x": 1,
           "xpad": 40
          },
          "colorscale": [
           [
            0,
            "rgb(247,251,255)"
           ],
           [
            0.125,
            "rgb(222,235,247)"
           ],
           [
            0.25,
            "rgb(198,219,239)"
           ],
           [
            0.375,
            "rgb(158,202,225)"
           ],
           [
            0.5,
            "rgb(107,174,214)"
           ],
           [
            0.625,
            "rgb(66,146,198)"
           ],
           [
            0.75,
            "rgb(33,113,181)"
           ],
           [
            0.875,
            "rgb(8,81,156)"
           ],
           [
            1,
            "rgb(8,48,107)"
           ]
          ],
          "line": {
           "color": "Grey",
           "width": 0.5
          },
          "showscale": false
         },
         "mode": "markers",
         "name": "Feasible Trial",
         "showlegend": false,
         "type": "scatter",
         "x": [
          115,
          118,
          97,
          439,
          400,
          131,
          162,
          490,
          366,
          219,
          169,
          268,
          288,
          432,
          258,
          277,
          252,
          277,
          320,
          323,
          348,
          330,
          210,
          316,
          338,
          331,
          366,
          362,
          208,
          229,
          230,
          386,
          66,
          237,
          398,
          251,
          393,
          247,
          298,
          301,
          300,
          302,
          186,
          436,
          182,
          420,
          139,
          136,
          158,
          229
         ],
         "xaxis": "x3",
         "y": [
          2.4681106898519727,
          6.349074951807658,
          4.690582301881578,
          2.8489964326222736,
          5.826875072055393,
          3.162649191750421,
          6.466169929504394,
          4.499755546781752,
          6.724963082207573,
          5.047803089353773,
          5.58282872835795,
          2.6898100031746757,
          5.240630828009712,
          4.568639310201009,
          1.6939336498578388,
          1.7000840716891819,
          1.7015658246146308,
          3.524985639254252,
          3.7316811217202086,
          3.7089430809021,
          3.7284369203779435,
          1.6944759885470073,
          1.7162004550298053,
          2.5117006513807505,
          2.479741983943515,
          2.4677382667859393,
          2.4646952311197916,
          1.6912908090485466,
          1.7043097058931989,
          1.6931899070739747,
          1.6994064066145156,
          2.9426446835199993,
          2.855369234085083,
          3.2592873414357504,
          3.9268213695949976,
          2.3146214644114176,
          2.3045149630970423,
          2.118155288696289,
          3.9971310165193343,
          2.677490425109863,
          2.659047871165805,
          2.4601540552245247,
          2.6978308412763807,
          2.7078566286298966,
          4.126289078924391,
          3.9164101706610785,
          2.1082318054305182,
          2.109481636683147,
          2.152233405907949,
          2.341096644931369
         ],
         "yaxis": "y3"
        },
        {
         "marker": {
          "color": [
           0,
           1,
           2,
           3,
           4,
           5,
           6,
           7,
           8,
           9,
           10,
           11,
           12,
           13,
           14,
           15,
           16,
           17,
           18,
           19,
           20,
           21,
           22,
           23,
           24,
           25,
           26,
           27,
           28,
           29,
           30,
           31,
           32,
           33,
           34,
           35,
           36,
           37,
           38,
           39,
           40,
           41,
           42,
           43,
           44,
           45,
           46,
           47,
           48,
           49
          ],
          "colorbar": {
           "title": {
            "text": "Trial"
           },
           "x": 1,
           "xpad": 40
          },
          "colorscale": [
           [
            0,
            "rgb(247,251,255)"
           ],
           [
            0.125,
            "rgb(222,235,247)"
           ],
           [
            0.25,
            "rgb(198,219,239)"
           ],
           [
            0.375,
            "rgb(158,202,225)"
           ],
           [
            0.5,
            "rgb(107,174,214)"
           ],
           [
            0.625,
            "rgb(66,146,198)"
           ],
           [
            0.75,
            "rgb(33,113,181)"
           ],
           [
            0.875,
            "rgb(8,81,156)"
           ],
           [
            1,
            "rgb(8,48,107)"
           ]
          ],
          "line": {
           "color": "Grey",
           "width": 0.5
          },
          "showscale": false
         },
         "mode": "markers",
         "name": "Feasible Trial",
         "showlegend": false,
         "type": "scatter",
         "x": [
          0.000009768729174476969,
          4.343573930514323e-10,
          0.0006410280086112029,
          7.639929405720419e-7,
          0.0000010259305825639069,
          1.1752994614947618e-10,
          0.001637099467444014,
          0.001106739624406051,
          0.000011781365056494112,
          2.6603245249306934e-9,
          4.846438282708477e-9,
          0.000019380404883400696,
          0.000021254474962795507,
          3.116131594392396e-8,
          6.288670170169385e-8,
          0.000022801455117024024,
          4.628674716883365e-8,
          4.6786227893984694e-8,
          4.250393859339995e-8,
          5.513911686683104e-7,
          4.2816567884592243e-7,
          0.0001041050415549564,
          0.000109831113852915,
          0.006037923393038679,
          0.005089434098699862,
          0.00007819890989541865,
          0.00007431508442516781,
          0.00018369433829972862,
          0.00015080069113636407,
          0.00011015460708009335,
          0.0000039044641771534904,
          0.0000029582163139666756,
          0.000003861513033991909,
          0.000002566018524051911,
          0.000003126439767467796,
          0.0004428490214627385,
          0.00041687865372980095,
          0.0002968788849350543,
          0.000384403034326112,
          1.3638707938305467e-7,
          1.9697064743519284e-7,
          1.3390300751815105e-7,
          0.0023744338180553826,
          0.001489046384890566,
          3.874240160032297e-9,
          0.000044884552290016305,
          0.0000054751883573282165,
          0.00005332317322417279,
          0.00003041071335084433,
          0.00004059323768466291
         ],
         "xaxis": "x4",
         "y": [
          2.4681106898519727,
          6.349074951807658,
          4.690582301881578,
          2.8489964326222736,
          5.826875072055393,
          3.162649191750421,
          6.466169929504394,
          4.499755546781752,
          6.724963082207573,
          5.047803089353773,
          5.58282872835795,
          2.6898100031746757,
          5.240630828009712,
          4.568639310201009,
          1.6939336498578388,
          1.7000840716891819,
          1.7015658246146308,
          3.524985639254252,
          3.7316811217202086,
          3.7089430809021,
          3.7284369203779435,
          1.6944759885470073,
          1.7162004550298053,
          2.5117006513807505,
          2.479741983943515,
          2.4677382667859393,
          2.4646952311197916,
          1.6912908090485466,
          1.7043097058931989,
          1.6931899070739747,
          1.6994064066145156,
          2.9426446835199993,
          2.855369234085083,
          3.2592873414357504,
          3.9268213695949976,
          2.3146214644114176,
          2.3045149630970423,
          2.118155288696289,
          3.9971310165193343,
          2.677490425109863,
          2.659047871165805,
          2.4601540552245247,
          2.6978308412763807,
          2.7078566286298966,
          4.126289078924391,
          3.9164101706610785,
          2.1082318054305182,
          2.109481636683147,
          2.152233405907949,
          2.341096644931369
         ],
         "yaxis": "y4"
        },
        {
         "marker": {
          "color": [
           0,
           1,
           2,
           3,
           4,
           5,
           6,
           7,
           8,
           9,
           10,
           11,
           12,
           13,
           14,
           15,
           16,
           17,
           18,
           19,
           20,
           21,
           22,
           23,
           24,
           25,
           26,
           27,
           28,
           29,
           30,
           31,
           32,
           33,
           34,
           35,
           36,
           37,
           38,
           39,
           40,
           41,
           42,
           43,
           44,
           45,
           46,
           47,
           48,
           49
          ],
          "colorbar": {
           "title": {
            "text": "Trial"
           },
           "x": 1,
           "xpad": 40
          },
          "colorscale": [
           [
            0,
            "rgb(247,251,255)"
           ],
           [
            0.125,
            "rgb(222,235,247)"
           ],
           [
            0.25,
            "rgb(198,219,239)"
           ],
           [
            0.375,
            "rgb(158,202,225)"
           ],
           [
            0.5,
            "rgb(107,174,214)"
           ],
           [
            0.625,
            "rgb(66,146,198)"
           ],
           [
            0.75,
            "rgb(33,113,181)"
           ],
           [
            0.875,
            "rgb(8,81,156)"
           ],
           [
            1,
            "rgb(8,48,107)"
           ]
          ],
          "line": {
           "color": "Grey",
           "width": 0.5
          },
          "showscale": false
         },
         "mode": "markers",
         "name": "Feasible Trial",
         "showlegend": false,
         "type": "scatter",
         "x": [
          0.0008898844988563893,
          0.00001032916850569405,
          0.0016058187069478093,
          0.0002974028811051711,
          0.000012877186578243297,
          0.0010875112812282562,
          0.00008392197057600039,
          0.00017674496404037948,
          0.000020376691310226962,
          0.0010273704778235777,
          0.00006907581129587796,
          0.0005221844256960306,
          0.0010950547665646228,
          0.000409922420699807,
          0.0043437400080463505,
          0.004000156482472535,
          0.003198211245410966,
          0.004731163527382164,
          0.0024966066461856867,
          0.004741291076849717,
          0.0026680703735274857,
          0.00402552300207997,
          0.0021651477491167162,
          0.000518478016610308,
          0.0004678925817297889,
          0.0030397796963736764,
          0.003170070795407802,
          0.0031659545630891997,
          0.004554414339650635,
          0.004981016448350137,
          0.004129721379327743,
          0.0017591311821222478,
          0.0019439517258100802,
          0.001740920873908265,
          0.001462345641798857,
          0.0016075982922698709,
          0.0015786855232489973,
          0.0015300098287343252,
          0.0007350664626013349,
          0.0008236424661757381,
          0.00075719109039666,
          0.0007775751902882448,
          0.0008556707383146349,
          0.00014335093506386603,
          0.000211331055365496,
          0.0036009988725778657,
          0.0035707043703368025,
          0.0036307829915932055,
          0.0036046416434611563,
          0.0024533536452709184
         ],
         "xaxis": "x5",
         "y": [
          2.4681106898519727,
          6.349074951807658,
          4.690582301881578,
          2.8489964326222736,
          5.826875072055393,
          3.162649191750421,
          6.466169929504394,
          4.499755546781752,
          6.724963082207573,
          5.047803089353773,
          5.58282872835795,
          2.6898100031746757,
          5.240630828009712,
          4.568639310201009,
          1.6939336498578388,
          1.7000840716891819,
          1.7015658246146308,
          3.524985639254252,
          3.7316811217202086,
          3.7089430809021,
          3.7284369203779435,
          1.6944759885470073,
          1.7162004550298053,
          2.5117006513807505,
          2.479741983943515,
          2.4677382667859393,
          2.4646952311197916,
          1.6912908090485466,
          1.7043097058931989,
          1.6931899070739747,
          1.6994064066145156,
          2.9426446835199993,
          2.855369234085083,
          3.2592873414357504,
          3.9268213695949976,
          2.3146214644114176,
          2.3045149630970423,
          2.118155288696289,
          3.9971310165193343,
          2.677490425109863,
          2.659047871165805,
          2.4601540552245247,
          2.6978308412763807,
          2.7078566286298966,
          4.126289078924391,
          3.9164101706610785,
          2.1082318054305182,
          2.109481636683147,
          2.152233405907949,
          2.341096644931369
         ],
         "yaxis": "y5"
        },
        {
         "marker": {
          "color": [
           0,
           1,
           2,
           3,
           4,
           5,
           6,
           7,
           8,
           9,
           10,
           11,
           12,
           13,
           14,
           15,
           16,
           17,
           18,
           19,
           20,
           21,
           22,
           23,
           24,
           25,
           26,
           27,
           28,
           29,
           30,
           31,
           32,
           33,
           34,
           35,
           36,
           37,
           38,
           39,
           40,
           41,
           42,
           43,
           44,
           45,
           46,
           47,
           48,
           49
          ],
          "colorbar": {
           "title": {
            "text": "Trial"
           },
           "x": 1,
           "xpad": 40
          },
          "colorscale": [
           [
            0,
            "rgb(247,251,255)"
           ],
           [
            0.125,
            "rgb(222,235,247)"
           ],
           [
            0.25,
            "rgb(198,219,239)"
           ],
           [
            0.375,
            "rgb(158,202,225)"
           ],
           [
            0.5,
            "rgb(107,174,214)"
           ],
           [
            0.625,
            "rgb(66,146,198)"
           ],
           [
            0.75,
            "rgb(33,113,181)"
           ],
           [
            0.875,
            "rgb(8,81,156)"
           ],
           [
            1,
            "rgb(8,48,107)"
           ]
          ],
          "line": {
           "color": "Grey",
           "width": 0.5
          },
          "showscale": false
         },
         "mode": "markers",
         "name": "Feasible Trial",
         "showlegend": false,
         "type": "scatter",
         "x": [
          7,
          21,
          27,
          10,
          20,
          10,
          31,
          19,
          19,
          32,
          27,
          7,
          32,
          24,
          4,
          4,
          4,
          13,
          14,
          14,
          14,
          4,
          4,
          7,
          8,
          7,
          7,
          4,
          4,
          4,
          4,
          11,
          10,
          12,
          16,
          6,
          6,
          5,
          17,
          9,
          9,
          8,
          9,
          9,
          16,
          16,
          5,
          5,
          5,
          6
         ],
         "xaxis": "x6",
         "y": [
          2.4681106898519727,
          6.349074951807658,
          4.690582301881578,
          2.8489964326222736,
          5.826875072055393,
          3.162649191750421,
          6.466169929504394,
          4.499755546781752,
          6.724963082207573,
          5.047803089353773,
          5.58282872835795,
          2.6898100031746757,
          5.240630828009712,
          4.568639310201009,
          1.6939336498578388,
          1.7000840716891819,
          1.7015658246146308,
          3.524985639254252,
          3.7316811217202086,
          3.7089430809021,
          3.7284369203779435,
          1.6944759885470073,
          1.7162004550298053,
          2.5117006513807505,
          2.479741983943515,
          2.4677382667859393,
          2.4646952311197916,
          1.6912908090485466,
          1.7043097058931989,
          1.6931899070739747,
          1.6994064066145156,
          2.9426446835199993,
          2.855369234085083,
          3.2592873414357504,
          3.9268213695949976,
          2.3146214644114176,
          2.3045149630970423,
          2.118155288696289,
          3.9971310165193343,
          2.677490425109863,
          2.659047871165805,
          2.4601540552245247,
          2.6978308412763807,
          2.7078566286298966,
          4.126289078924391,
          3.9164101706610785,
          2.1082318054305182,
          2.109481636683147,
          2.152233405907949,
          2.341096644931369
         ],
         "yaxis": "y6"
        },
        {
         "marker": {
          "color": [
           0,
           1,
           2,
           3,
           4,
           5,
           6,
           7,
           8,
           9,
           10,
           11,
           12,
           13,
           14,
           15,
           16,
           17,
           18,
           19,
           20,
           21,
           22,
           23,
           24,
           25,
           26,
           27,
           28,
           29,
           30,
           31,
           32,
           33,
           34,
           35,
           36,
           37,
           38,
           39,
           40,
           41,
           42,
           43,
           44,
           45,
           46,
           47,
           48,
           49
          ],
          "colorbar": {
           "title": {
            "text": "Trial"
           },
           "x": 1,
           "xpad": 40
          },
          "colorscale": [
           [
            0,
            "rgb(247,251,255)"
           ],
           [
            0.125,
            "rgb(222,235,247)"
           ],
           [
            0.25,
            "rgb(198,219,239)"
           ],
           [
            0.375,
            "rgb(158,202,225)"
           ],
           [
            0.5,
            "rgb(107,174,214)"
           ],
           [
            0.625,
            "rgb(66,146,198)"
           ],
           [
            0.75,
            "rgb(33,113,181)"
           ],
           [
            0.875,
            "rgb(8,81,156)"
           ],
           [
            1,
            "rgb(8,48,107)"
           ]
          ],
          "line": {
           "color": "Grey",
           "width": 0.5
          },
          "showscale": false
         },
         "mode": "markers",
         "name": "Feasible Trial",
         "showlegend": false,
         "type": "scatter",
         "x": [
          0.000027447761592965494,
          0.00018520660688585078,
          0.00017810441512983809,
          0.0007902748868305895,
          0.0016120600040101759,
          0.000583894401870108,
          0.00010785058266551037,
          0.0015733025483603016,
          0.006580049685842385,
          0.000010140850222720649,
          0.0004003888296387892,
          0.0003451660458691164,
          0.00021076710198540628,
          0.00043543552447689146,
          0.000007486707736119114,
          0.000009804733120873629,
          0.00000615298644938287,
          0.0000013477268144312369,
          0.0000013969092393478653,
          0.0000010998948294111602,
          0.000030166345179562063,
          0.000030196794503809107,
          0.00003089471993912926,
          0.000008797034969688983,
          0.00003648194702719405,
          0.000005751964614674562,
          0.000005257857237741653,
          0.00003166251795117001,
          0.0000037336485315321257,
          0.000003223477653378271,
          0.000004086032625591708,
          0.00001668768641738223,
          0.000017393507908423257,
          0.00005255615511704098,
          0.00004690187326571889,
          0.00007456536003626624,
          0.00006974797244671165,
          0.00006123897161213913,
          0.000059031931051990284,
          0.000002218308845096346,
          0.0000024684337249881587,
          0.000002388707684453387,
          0.0000024229752540685573,
          0.000017598669801805152,
          0.000018984696333970895,
          0.0000177229204359284,
          0.000012011351770139866,
          0.000011641742336006207,
          0.00011046703052838762,
          0.00013088500589899108
         ],
         "xaxis": "x7",
         "y": [
          2.4681106898519727,
          6.349074951807658,
          4.690582301881578,
          2.8489964326222736,
          5.826875072055393,
          3.162649191750421,
          6.466169929504394,
          4.499755546781752,
          6.724963082207573,
          5.047803089353773,
          5.58282872835795,
          2.6898100031746757,
          5.240630828009712,
          4.568639310201009,
          1.6939336498578388,
          1.7000840716891819,
          1.7015658246146308,
          3.524985639254252,
          3.7316811217202086,
          3.7089430809021,
          3.7284369203779435,
          1.6944759885470073,
          1.7162004550298053,
          2.5117006513807505,
          2.479741983943515,
          2.4677382667859393,
          2.4646952311197916,
          1.6912908090485466,
          1.7043097058931989,
          1.6931899070739747,
          1.6994064066145156,
          2.9426446835199993,
          2.855369234085083,
          3.2592873414357504,
          3.9268213695949976,
          2.3146214644114176,
          2.3045149630970423,
          2.118155288696289,
          3.9971310165193343,
          2.677490425109863,
          2.659047871165805,
          2.4601540552245247,
          2.6978308412763807,
          2.7078566286298966,
          4.126289078924391,
          3.9164101706610785,
          2.1082318054305182,
          2.109481636683147,
          2.152233405907949,
          2.341096644931369
         ],
         "yaxis": "y7"
        },
        {
         "marker": {
          "color": [
           0,
           1,
           2,
           3,
           4,
           5,
           6,
           7,
           8,
           9,
           10,
           11,
           12,
           13,
           14,
           15,
           16,
           17,
           18,
           19,
           20,
           21,
           22,
           23,
           24,
           25,
           26,
           27,
           28,
           29,
           30,
           31,
           32,
           33,
           34,
           35,
           36,
           37,
           38,
           39,
           40,
           41,
           42,
           43,
           44,
           45,
           46,
           47,
           48,
           49
          ],
          "colorbar": {
           "title": {
            "text": "Trial"
           },
           "x": 1,
           "xpad": 40
          },
          "colorscale": [
           [
            0,
            "rgb(247,251,255)"
           ],
           [
            0.125,
            "rgb(222,235,247)"
           ],
           [
            0.25,
            "rgb(198,219,239)"
           ],
           [
            0.375,
            "rgb(158,202,225)"
           ],
           [
            0.5,
            "rgb(107,174,214)"
           ],
           [
            0.625,
            "rgb(66,146,198)"
           ],
           [
            0.75,
            "rgb(33,113,181)"
           ],
           [
            0.875,
            "rgb(8,81,156)"
           ],
           [
            1,
            "rgb(8,48,107)"
           ]
          ],
          "line": {
           "color": "Grey",
           "width": 0.5
          },
          "showscale": false
         },
         "mode": "markers",
         "name": "Feasible Trial",
         "showlegend": false,
         "type": "scatter",
         "x": [
          248,
          151,
          143,
          174,
          203,
          192,
          134,
          159,
          21,
          190,
          178,
          66,
          204,
          196,
          251,
          254,
          254,
          256,
          223,
          226,
          221,
          223,
          96,
          223,
          220,
          224,
          225,
          240,
          233,
          237,
          236,
          118,
          121,
          241,
          243,
          240,
          241,
          238,
          243,
          210,
          209,
          204,
          165,
          184,
          167,
          183,
          248,
          186,
          211,
          233
         ],
         "xaxis": "x8",
         "y": [
          2.4681106898519727,
          6.349074951807658,
          4.690582301881578,
          2.8489964326222736,
          5.826875072055393,
          3.162649191750421,
          6.466169929504394,
          4.499755546781752,
          6.724963082207573,
          5.047803089353773,
          5.58282872835795,
          2.6898100031746757,
          5.240630828009712,
          4.568639310201009,
          1.6939336498578388,
          1.7000840716891819,
          1.7015658246146308,
          3.524985639254252,
          3.7316811217202086,
          3.7089430809021,
          3.7284369203779435,
          1.6944759885470073,
          1.7162004550298053,
          2.5117006513807505,
          2.479741983943515,
          2.4677382667859393,
          2.4646952311197916,
          1.6912908090485466,
          1.7043097058931989,
          1.6931899070739747,
          1.6994064066145156,
          2.9426446835199993,
          2.855369234085083,
          3.2592873414357504,
          3.9268213695949976,
          2.3146214644114176,
          2.3045149630970423,
          2.118155288696289,
          3.9971310165193343,
          2.677490425109863,
          2.659047871165805,
          2.4601540552245247,
          2.6978308412763807,
          2.7078566286298966,
          4.126289078924391,
          3.9164101706610785,
          2.1082318054305182,
          2.109481636683147,
          2.152233405907949,
          2.341096644931369
         ],
         "yaxis": "y8"
        }
       ],
       "layout": {
        "template": {
         "data": {
          "bar": [
           {
            "error_x": {
             "color": "#2a3f5f"
            },
            "error_y": {
             "color": "#2a3f5f"
            },
            "marker": {
             "line": {
              "color": "#E5ECF6",
              "width": 0.5
             },
             "pattern": {
              "fillmode": "overlay",
              "size": 10,
              "solidity": 0.2
             }
            },
            "type": "bar"
           }
          ],
          "barpolar": [
           {
            "marker": {
             "line": {
              "color": "#E5ECF6",
              "width": 0.5
             },
             "pattern": {
              "fillmode": "overlay",
              "size": 10,
              "solidity": 0.2
             }
            },
            "type": "barpolar"
           }
          ],
          "carpet": [
           {
            "aaxis": {
             "endlinecolor": "#2a3f5f",
             "gridcolor": "white",
             "linecolor": "white",
             "minorgridcolor": "white",
             "startlinecolor": "#2a3f5f"
            },
            "baxis": {
             "endlinecolor": "#2a3f5f",
             "gridcolor": "white",
             "linecolor": "white",
             "minorgridcolor": "white",
             "startlinecolor": "#2a3f5f"
            },
            "type": "carpet"
           }
          ],
          "choropleth": [
           {
            "colorbar": {
             "outlinewidth": 0,
             "ticks": ""
            },
            "type": "choropleth"
           }
          ],
          "contour": [
           {
            "colorbar": {
             "outlinewidth": 0,
             "ticks": ""
            },
            "colorscale": [
             [
              0,
              "#0d0887"
             ],
             [
              0.1111111111111111,
              "#46039f"
             ],
             [
              0.2222222222222222,
              "#7201a8"
             ],
             [
              0.3333333333333333,
              "#9c179e"
             ],
             [
              0.4444444444444444,
              "#bd3786"
             ],
             [
              0.5555555555555556,
              "#d8576b"
             ],
             [
              0.6666666666666666,
              "#ed7953"
             ],
             [
              0.7777777777777778,
              "#fb9f3a"
             ],
             [
              0.8888888888888888,
              "#fdca26"
             ],
             [
              1,
              "#f0f921"
             ]
            ],
            "type": "contour"
           }
          ],
          "contourcarpet": [
           {
            "colorbar": {
             "outlinewidth": 0,
             "ticks": ""
            },
            "type": "contourcarpet"
           }
          ],
          "heatmap": [
           {
            "colorbar": {
             "outlinewidth": 0,
             "ticks": ""
            },
            "colorscale": [
             [
              0,
              "#0d0887"
             ],
             [
              0.1111111111111111,
              "#46039f"
             ],
             [
              0.2222222222222222,
              "#7201a8"
             ],
             [
              0.3333333333333333,
              "#9c179e"
             ],
             [
              0.4444444444444444,
              "#bd3786"
             ],
             [
              0.5555555555555556,
              "#d8576b"
             ],
             [
              0.6666666666666666,
              "#ed7953"
             ],
             [
              0.7777777777777778,
              "#fb9f3a"
             ],
             [
              0.8888888888888888,
              "#fdca26"
             ],
             [
              1,
              "#f0f921"
             ]
            ],
            "type": "heatmap"
           }
          ],
          "heatmapgl": [
           {
            "colorbar": {
             "outlinewidth": 0,
             "ticks": ""
            },
            "colorscale": [
             [
              0,
              "#0d0887"
             ],
             [
              0.1111111111111111,
              "#46039f"
             ],
             [
              0.2222222222222222,
              "#7201a8"
             ],
             [
              0.3333333333333333,
              "#9c179e"
             ],
             [
              0.4444444444444444,
              "#bd3786"
             ],
             [
              0.5555555555555556,
              "#d8576b"
             ],
             [
              0.6666666666666666,
              "#ed7953"
             ],
             [
              0.7777777777777778,
              "#fb9f3a"
             ],
             [
              0.8888888888888888,
              "#fdca26"
             ],
             [
              1,
              "#f0f921"
             ]
            ],
            "type": "heatmapgl"
           }
          ],
          "histogram": [
           {
            "marker": {
             "pattern": {
              "fillmode": "overlay",
              "size": 10,
              "solidity": 0.2
             }
            },
            "type": "histogram"
           }
          ],
          "histogram2d": [
           {
            "colorbar": {
             "outlinewidth": 0,
             "ticks": ""
            },
            "colorscale": [
             [
              0,
              "#0d0887"
             ],
             [
              0.1111111111111111,
              "#46039f"
             ],
             [
              0.2222222222222222,
              "#7201a8"
             ],
             [
              0.3333333333333333,
              "#9c179e"
             ],
             [
              0.4444444444444444,
              "#bd3786"
             ],
             [
              0.5555555555555556,
              "#d8576b"
             ],
             [
              0.6666666666666666,
              "#ed7953"
             ],
             [
              0.7777777777777778,
              "#fb9f3a"
             ],
             [
              0.8888888888888888,
              "#fdca26"
             ],
             [
              1,
              "#f0f921"
             ]
            ],
            "type": "histogram2d"
           }
          ],
          "histogram2dcontour": [
           {
            "colorbar": {
             "outlinewidth": 0,
             "ticks": ""
            },
            "colorscale": [
             [
              0,
              "#0d0887"
             ],
             [
              0.1111111111111111,
              "#46039f"
             ],
             [
              0.2222222222222222,
              "#7201a8"
             ],
             [
              0.3333333333333333,
              "#9c179e"
             ],
             [
              0.4444444444444444,
              "#bd3786"
             ],
             [
              0.5555555555555556,
              "#d8576b"
             ],
             [
              0.6666666666666666,
              "#ed7953"
             ],
             [
              0.7777777777777778,
              "#fb9f3a"
             ],
             [
              0.8888888888888888,
              "#fdca26"
             ],
             [
              1,
              "#f0f921"
             ]
            ],
            "type": "histogram2dcontour"
           }
          ],
          "mesh3d": [
           {
            "colorbar": {
             "outlinewidth": 0,
             "ticks": ""
            },
            "type": "mesh3d"
           }
          ],
          "parcoords": [
           {
            "line": {
             "colorbar": {
              "outlinewidth": 0,
              "ticks": ""
             }
            },
            "type": "parcoords"
           }
          ],
          "pie": [
           {
            "automargin": true,
            "type": "pie"
           }
          ],
          "scatter": [
           {
            "fillpattern": {
             "fillmode": "overlay",
             "size": 10,
             "solidity": 0.2
            },
            "type": "scatter"
           }
          ],
          "scatter3d": [
           {
            "line": {
             "colorbar": {
              "outlinewidth": 0,
              "ticks": ""
             }
            },
            "marker": {
             "colorbar": {
              "outlinewidth": 0,
              "ticks": ""
             }
            },
            "type": "scatter3d"
           }
          ],
          "scattercarpet": [
           {
            "marker": {
             "colorbar": {
              "outlinewidth": 0,
              "ticks": ""
             }
            },
            "type": "scattercarpet"
           }
          ],
          "scattergeo": [
           {
            "marker": {
             "colorbar": {
              "outlinewidth": 0,
              "ticks": ""
             }
            },
            "type": "scattergeo"
           }
          ],
          "scattergl": [
           {
            "marker": {
             "colorbar": {
              "outlinewidth": 0,
              "ticks": ""
             }
            },
            "type": "scattergl"
           }
          ],
          "scattermapbox": [
           {
            "marker": {
             "colorbar": {
              "outlinewidth": 0,
              "ticks": ""
             }
            },
            "type": "scattermapbox"
           }
          ],
          "scatterpolar": [
           {
            "marker": {
             "colorbar": {
              "outlinewidth": 0,
              "ticks": ""
             }
            },
            "type": "scatterpolar"
           }
          ],
          "scatterpolargl": [
           {
            "marker": {
             "colorbar": {
              "outlinewidth": 0,
              "ticks": ""
             }
            },
            "type": "scatterpolargl"
           }
          ],
          "scatterternary": [
           {
            "marker": {
             "colorbar": {
              "outlinewidth": 0,
              "ticks": ""
             }
            },
            "type": "scatterternary"
           }
          ],
          "surface": [
           {
            "colorbar": {
             "outlinewidth": 0,
             "ticks": ""
            },
            "colorscale": [
             [
              0,
              "#0d0887"
             ],
             [
              0.1111111111111111,
              "#46039f"
             ],
             [
              0.2222222222222222,
              "#7201a8"
             ],
             [
              0.3333333333333333,
              "#9c179e"
             ],
             [
              0.4444444444444444,
              "#bd3786"
             ],
             [
              0.5555555555555556,
              "#d8576b"
             ],
             [
              0.6666666666666666,
              "#ed7953"
             ],
             [
              0.7777777777777778,
              "#fb9f3a"
             ],
             [
              0.8888888888888888,
              "#fdca26"
             ],
             [
              1,
              "#f0f921"
             ]
            ],
            "type": "surface"
           }
          ],
          "table": [
           {
            "cells": {
             "fill": {
              "color": "#EBF0F8"
             },
             "line": {
              "color": "white"
             }
            },
            "header": {
             "fill": {
              "color": "#C8D4E3"
             },
             "line": {
              "color": "white"
             }
            },
            "type": "table"
           }
          ]
         },
         "layout": {
          "annotationdefaults": {
           "arrowcolor": "#2a3f5f",
           "arrowhead": 0,
           "arrowwidth": 1
          },
          "autotypenumbers": "strict",
          "coloraxis": {
           "colorbar": {
            "outlinewidth": 0,
            "ticks": ""
           }
          },
          "colorscale": {
           "diverging": [
            [
             0,
             "#8e0152"
            ],
            [
             0.1,
             "#c51b7d"
            ],
            [
             0.2,
             "#de77ae"
            ],
            [
             0.3,
             "#f1b6da"
            ],
            [
             0.4,
             "#fde0ef"
            ],
            [
             0.5,
             "#f7f7f7"
            ],
            [
             0.6,
             "#e6f5d0"
            ],
            [
             0.7,
             "#b8e186"
            ],
            [
             0.8,
             "#7fbc41"
            ],
            [
             0.9,
             "#4d9221"
            ],
            [
             1,
             "#276419"
            ]
           ],
           "sequential": [
            [
             0,
             "#0d0887"
            ],
            [
             0.1111111111111111,
             "#46039f"
            ],
            [
             0.2222222222222222,
             "#7201a8"
            ],
            [
             0.3333333333333333,
             "#9c179e"
            ],
            [
             0.4444444444444444,
             "#bd3786"
            ],
            [
             0.5555555555555556,
             "#d8576b"
            ],
            [
             0.6666666666666666,
             "#ed7953"
            ],
            [
             0.7777777777777778,
             "#fb9f3a"
            ],
            [
             0.8888888888888888,
             "#fdca26"
            ],
            [
             1,
             "#f0f921"
            ]
           ],
           "sequentialminus": [
            [
             0,
             "#0d0887"
            ],
            [
             0.1111111111111111,
             "#46039f"
            ],
            [
             0.2222222222222222,
             "#7201a8"
            ],
            [
             0.3333333333333333,
             "#9c179e"
            ],
            [
             0.4444444444444444,
             "#bd3786"
            ],
            [
             0.5555555555555556,
             "#d8576b"
            ],
            [
             0.6666666666666666,
             "#ed7953"
            ],
            [
             0.7777777777777778,
             "#fb9f3a"
            ],
            [
             0.8888888888888888,
             "#fdca26"
            ],
            [
             1,
             "#f0f921"
            ]
           ]
          },
          "colorway": [
           "#636efa",
           "#EF553B",
           "#00cc96",
           "#ab63fa",
           "#FFA15A",
           "#19d3f3",
           "#FF6692",
           "#B6E880",
           "#FF97FF",
           "#FECB52"
          ],
          "font": {
           "color": "#2a3f5f"
          },
          "geo": {
           "bgcolor": "white",
           "lakecolor": "white",
           "landcolor": "#E5ECF6",
           "showlakes": true,
           "showland": true,
           "subunitcolor": "white"
          },
          "hoverlabel": {
           "align": "left"
          },
          "hovermode": "closest",
          "mapbox": {
           "style": "light"
          },
          "paper_bgcolor": "white",
          "plot_bgcolor": "#E5ECF6",
          "polar": {
           "angularaxis": {
            "gridcolor": "white",
            "linecolor": "white",
            "ticks": ""
           },
           "bgcolor": "#E5ECF6",
           "radialaxis": {
            "gridcolor": "white",
            "linecolor": "white",
            "ticks": ""
           }
          },
          "scene": {
           "xaxis": {
            "backgroundcolor": "#E5ECF6",
            "gridcolor": "white",
            "gridwidth": 2,
            "linecolor": "white",
            "showbackground": true,
            "ticks": "",
            "zerolinecolor": "white"
           },
           "yaxis": {
            "backgroundcolor": "#E5ECF6",
            "gridcolor": "white",
            "gridwidth": 2,
            "linecolor": "white",
            "showbackground": true,
            "ticks": "",
            "zerolinecolor": "white"
           },
           "zaxis": {
            "backgroundcolor": "#E5ECF6",
            "gridcolor": "white",
            "gridwidth": 2,
            "linecolor": "white",
            "showbackground": true,
            "ticks": "",
            "zerolinecolor": "white"
           }
          },
          "shapedefaults": {
           "line": {
            "color": "#2a3f5f"
           }
          },
          "ternary": {
           "aaxis": {
            "gridcolor": "white",
            "linecolor": "white",
            "ticks": ""
           },
           "baxis": {
            "gridcolor": "white",
            "linecolor": "white",
            "ticks": ""
           },
           "bgcolor": "#E5ECF6",
           "caxis": {
            "gridcolor": "white",
            "linecolor": "white",
            "ticks": ""
           }
          },
          "title": {
           "x": 0.05
          },
          "xaxis": {
           "automargin": true,
           "gridcolor": "white",
           "linecolor": "white",
           "ticks": "",
           "title": {
            "standoff": 15
           },
           "zerolinecolor": "white",
           "zerolinewidth": 2
          },
          "yaxis": {
           "automargin": true,
           "gridcolor": "white",
           "linecolor": "white",
           "ticks": "",
           "title": {
            "standoff": 15
           },
           "zerolinecolor": "white",
           "zerolinewidth": 2
          }
         }
        },
        "title": {
         "text": "Slice Plot"
        },
        "width": 2400,
        "xaxis": {
         "anchor": "y",
         "categoryarray": [
          "relu",
          "sigmoid"
         ],
         "categoryorder": "array",
         "domain": [
          0,
          0.103125
         ],
         "title": {
          "text": "activation_function_str"
         },
         "type": "category"
        },
        "xaxis2": {
         "anchor": "y2",
         "domain": [
          0.128125,
          0.23124999999999998
         ],
         "title": {
          "text": "cluster_dim"
         }
        },
        "xaxis3": {
         "anchor": "y3",
         "domain": [
          0.25625,
          0.359375
         ],
         "title": {
          "text": "epochs"
         }
        },
        "xaxis4": {
         "anchor": "y4",
         "domain": [
          0.38437499999999997,
          0.48749999999999993
         ],
         "title": {
          "text": "kl_weight"
         },
         "type": "log"
        },
        "xaxis5": {
         "anchor": "y5",
         "domain": [
          0.5125,
          0.615625
         ],
         "title": {
          "text": "lr"
         },
         "type": "log"
        },
        "xaxis6": {
         "anchor": "y6",
         "domain": [
          0.640625,
          0.74375
         ],
         "title": {
          "text": "num_clusters"
         }
        },
        "xaxis7": {
         "anchor": "y7",
         "domain": [
          0.76875,
          0.8718750000000001
         ],
         "title": {
          "text": "weight_decay"
         },
         "type": "log"
        },
        "xaxis8": {
         "anchor": "y8",
         "domain": [
          0.8968750000000001,
          1
         ],
         "title": {
          "text": "z_dim"
         }
        },
        "yaxis": {
         "anchor": "x",
         "domain": [
          0,
          1
         ],
         "title": {
          "text": "Objective Value"
         }
        },
        "yaxis2": {
         "anchor": "x2",
         "domain": [
          0,
          1
         ],
         "matches": "y",
         "showticklabels": false
        },
        "yaxis3": {
         "anchor": "x3",
         "domain": [
          0,
          1
         ],
         "matches": "y",
         "showticklabels": false
        },
        "yaxis4": {
         "anchor": "x4",
         "domain": [
          0,
          1
         ],
         "matches": "y",
         "showticklabels": false
        },
        "yaxis5": {
         "anchor": "x5",
         "domain": [
          0,
          1
         ],
         "matches": "y",
         "showticklabels": false
        },
        "yaxis6": {
         "anchor": "x6",
         "domain": [
          0,
          1
         ],
         "matches": "y",
         "showticklabels": false
        },
        "yaxis7": {
         "anchor": "x7",
         "domain": [
          0,
          1
         ],
         "matches": "y",
         "showticklabels": false
        },
        "yaxis8": {
         "anchor": "x8",
         "domain": [
          0,
          1
         ],
         "matches": "y",
         "showticklabels": false
        }
       }
      }
     },
     "metadata": {},
     "output_type": "display_data"
    }
   ],
   "source": [
    "folder = \"data/enron/\"\n",
    "# searcher = gridsearch_graphsage(folder)\n",
    "# searcher = gridsearch_ddpm(folder)\n",
    "# searcher = gridsearch_lstm(folder)\n",
    "# searcher = gridsearch_mlp(folder)\n",
    "searcher = gridsearch_bimlp(folder)"
   ]
  },
  {
   "cell_type": "code",
   "execution_count": 6,
   "metadata": {},
   "outputs": [
    {
     "data": {
      "text/plain": [
       "{'num_clusters': 4,\n",
       " 'cluster_dim': 15,\n",
       " 'epochs': 362,\n",
       " 'z_dim': 240,\n",
       " 'activation_function_str': 'sigmoid',\n",
       " 'lr': 0.0031659545630891997,\n",
       " 'weight_decay': 3.166251795117001e-05,\n",
       " 'kl_weight': 0.00018369433829972862}"
      ]
     },
     "execution_count": 6,
     "metadata": {},
     "output_type": "execute_result"
    }
   ],
   "source": [
    "searcher.study.best_params"
   ]
  },
  {
   "cell_type": "code",
   "execution_count": null,
   "metadata": {},
   "outputs": [],
   "source": []
  }
 ],
 "metadata": {
  "kernelspec": {
   "display_name": "tg_geo",
   "language": "python",
   "name": "python3"
  },
  "language_info": {
   "codemirror_mode": {
    "name": "ipython",
    "version": 3
   },
   "file_extension": ".py",
   "mimetype": "text/x-python",
   "name": "python",
   "nbconvert_exporter": "python",
   "pygments_lexer": "ipython3",
   "version": "3.11.5"
  },
  "orig_nbformat": 4
 },
 "nbformat": 4,
 "nbformat_minor": 2
}
