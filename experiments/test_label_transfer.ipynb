{
 "cells": [
  {
   "cell_type": "code",
   "execution_count": 1,
   "metadata": {},
   "outputs": [
    {
     "name": "stdout",
     "output_type": "stream",
     "text": [
      "/Users/tonpoppe/workspace/tigger_adj_rep/tigger_adj\n"
     ]
    }
   ],
   "source": [
    "# Set root dir\n",
    "import os\n",
    "os.chdir('..')\n",
    "print(os.getcwd())"
   ]
  },
  {
   "cell_type": "code",
   "execution_count": 2,
   "metadata": {},
   "outputs": [],
   "source": [
    "from pyspark import SparkContext, SparkConf\n",
    "from pyspark.sql import SparkSession\n",
    "import tensorflow as tf\n",
    "from pyspark.sql.window import Window\n",
    "from pyspark.sql import functions as F\n",
    "import yaml\n"
   ]
  },
  {
   "cell_type": "code",
   "execution_count": 3,
   "metadata": {},
   "outputs": [
    {
     "name": "stdout",
     "output_type": "stream",
     "text": [
      "loaded\n"
     ]
    }
   ],
   "source": [
    "from GAE.graph_case_controller import GraphAutoEncoder\n",
    "from GAE.data_feeder_graphframes import DataFeederGraphFrames\n",
    "from tigger_package.orchestrator import Orchestrator\n",
    "from tigger_package.label_transfer import LabelTransferrer"
   ]
  },
  {
   "cell_type": "code",
   "execution_count": 4,
   "metadata": {},
   "outputs": [
    {
     "name": "stderr",
     "output_type": "stream",
     "text": [
      "23/12/31 09:00:26 WARN Utils: Your hostname, MacBook-Pro-2.local resolves to a loopback address: 127.0.0.1; using 10.100.81.74 instead (on interface en0)\n",
      "23/12/31 09:00:26 WARN Utils: Set SPARK_LOCAL_IP if you need to bind to another address\n",
      "Setting default log level to \"WARN\".\n",
      "To adjust logging level use sc.setLogLevel(newLevel). For SparkR, use setLogLevel(newLevel).\n",
      "23/12/31 09:00:27 WARN NativeCodeLoader: Unable to load native-hadoop library for your platform... using builtin-java classes where applicable\n"
     ]
    }
   ],
   "source": [
    "conf = SparkConf().setAppName('appName').setMaster('local')\n",
    "sc = SparkContext(conf=conf)\n",
    "spark = SparkSession(sc)"
   ]
  },
  {
   "cell_type": "code",
   "execution_count": 10,
   "metadata": {},
   "outputs": [],
   "source": [
    "config_dict = yaml.safe_load('''\n",
    "    weight_col: 'edge_att0'\n",
    "    label_col: none\n",
    "    support_size: [4, 4]\n",
    "    dims: [2, 6, 6, 6]\n",
    "    batch_size: 64\n",
    "    hub0_dim: 6\n",
    "    seed: 1\n",
    "    learning_rate: 0.001\n",
    "    usebn: true\n",
    "    verbose: true\n",
    "    epochs: 3\n",
    "''')"
   ]
  },
  {
   "cell_type": "code",
   "execution_count": 11,
   "metadata": {},
   "outputs": [],
   "source": [
    "folder = \"data/erdos/\"\n",
    "orchestrator = Orchestrator(folder)\n",
    "nodes = orchestrator._load_nodes()\n",
    "edges = orchestrator._load_edges()                                 "
   ]
  },
  {
   "cell_type": "code",
   "execution_count": 12,
   "metadata": {},
   "outputs": [],
   "source": [
    "lt = LabelTransferrer(\n",
    "    nodes=nodes, \n",
    "    edges=edges, \n",
    "    synth_nodes=nodes, \n",
    "    synth_edges=edges,\n",
    "    config_dict=config_dict,\n",
    "    spark=spark)"
   ]
  },
  {
   "cell_type": "code",
   "execution_count": 13,
   "metadata": {},
   "outputs": [
    {
     "name": "stderr",
     "output_type": "stream",
     "text": [
      "/Users/tonpoppe/anaconda3/envs/tg_geo/lib/python3.11/site-packages/pyspark/sql/pandas/conversion.py:485: FutureWarning: is_datetime64tz_dtype is deprecated and will be removed in a future version. Check `isinstance(dtype, pd.DatetimeTZDtype)` instead.\n",
      "  if should_localize and is_datetime64tz_dtype(s.dtype) and s.dt.tz is not None:\n"
     ]
    },
    {
     "name": "stdout",
     "output_type": "stream",
     "text": [
      "The following node labels are included ['attr0', 'attr1', 'attr2', 'attr3', 'attr4', 'attr5', 'attr6', 'attr7']\n",
      "The following edge labels are included ['weight', 'edge_att1', 'edge_att2', 'edge_att3', 'edge_att4', 'edge_att5', 'edge_att6']\n"
     ]
    },
    {
     "name": "stderr",
     "output_type": "stream",
     "text": [
      "WARNING:absl:At this time, the v2.11+ optimizer `tf.keras.optimizers.Adam` runs slowly on M1/M2 Macs, please use the legacy Keras optimizer instead, located at `tf.keras.optimizers.legacy.Adam`.\n",
      "WARNING:absl:At this time, the v2.11+ optimizer `tf.keras.optimizers.RMSprop` runs slowly on M1/M2 Macs, please use the legacy Keras optimizer instead, located at `tf.keras.optimizers.legacy.RMSprop`.\n"
     ]
    },
    {
     "name": "stdout",
     "output_type": "stream",
     "text": [
      "train nodes [399 386 575 684 163  43 278 616 132 774] ...\n",
      "val nodes [312 980 209  55 342  49 707 687 857 669] ...\n"
     ]
    }
   ],
   "source": [
    "gae = lt.transfer()"
   ]
  },
  {
   "cell_type": "code",
   "execution_count": 14,
   "metadata": {},
   "outputs": [
    {
     "name": "stdout",
     "output_type": "stream",
     "text": [
      "train nodes [399 386 575 684 163  43 278 616 132 774] ...\n",
      "val nodes [312 980 209  55 342  49 707 687 857 669] ...\n",
      "Epoch 1/3\n",
      "10/10 [==============================] - 1s 34ms/step - loss: 0.3499 - output_1_loss: 0.2483 - output_2_loss: 0.1017 - val_loss: 0.3901 - val_output_1_loss: 0.2718 - val_output_2_loss: 0.1183\n",
      "Epoch 2/3\n",
      "10/10 [==============================] - 0s 9ms/step - loss: 0.3154 - output_1_loss: 0.2220 - output_2_loss: 0.0934 - val_loss: 0.3659 - val_output_1_loss: 0.2536 - val_output_2_loss: 0.1122\n",
      "Epoch 3/3\n",
      "10/10 [==============================] - 0s 9ms/step - loss: 0.2950 - output_1_loss: 0.2065 - output_2_loss: 0.0886 - val_loss: 0.3395 - val_output_1_loss: 0.2332 - val_output_2_loss: 0.1064\n"
     ]
    }
   ],
   "source": [
    "history = gae.fit(epochs=3, layer_wise=False)"
   ]
  },
  {
   "cell_type": "code",
   "execution_count": 15,
   "metadata": {},
   "outputs": [
    {
     "ename": "NameError",
     "evalue": "name 'graph' is not defined",
     "output_type": "error",
     "traceback": [
      "\u001b[0;31m---------------------------------------------------------------------------\u001b[0m",
      "\u001b[0;31mNameError\u001b[0m                                 Traceback (most recent call last)",
      "\u001b[1;32m/Users/tonpoppe/workspace/tigger_adj_rep/tigger_adj/experiments/test_label_transfer.ipynb Cell 10\u001b[0m line \u001b[0;36m1\n\u001b[0;32m----> <a href='vscode-notebook-cell:/Users/tonpoppe/workspace/tigger_adj_rep/tigger_adj/experiments/test_label_transfer.ipynb#X12sZmlsZQ%3D%3D?line=0'>1</a>\u001b[0m e \u001b[39m=\u001b[39m gae\u001b[39m.\u001b[39mcalculate_embeddings(graph)\n\u001b[1;32m      <a href='vscode-notebook-cell:/Users/tonpoppe/workspace/tigger_adj_rep/tigger_adj/experiments/test_label_transfer.ipynb#X12sZmlsZQ%3D%3D?line=1'>2</a>\u001b[0m e\n",
      "\u001b[0;31mNameError\u001b[0m: name 'graph' is not defined"
     ]
    }
   ],
   "source": [
    "e = gae.calculate_embeddings(graph)\n",
    "e"
   ]
  },
  {
   "cell_type": "code",
   "execution_count": null,
   "metadata": {},
   "outputs": [],
   "source": []
  }
 ],
 "metadata": {
  "kernelspec": {
   "display_name": "tg_geo",
   "language": "python",
   "name": "python3"
  },
  "language_info": {
   "codemirror_mode": {
    "name": "ipython",
    "version": 3
   },
   "file_extension": ".py",
   "mimetype": "text/x-python",
   "name": "python",
   "nbconvert_exporter": "python",
   "pygments_lexer": "ipython3",
   "version": "3.11.5"
  },
  "orig_nbformat": 4
 },
 "nbformat": 4,
 "nbformat_minor": 2
}
